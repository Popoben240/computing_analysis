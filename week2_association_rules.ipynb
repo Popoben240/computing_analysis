{
 "cells": [
  {
   "cell_type": "markdown",
   "metadata": {
    "deletable": false,
    "editable": false,
    "nbgrader": {
     "grade": false,
     "grade_id": "cell-d88d6bce3b214a79",
     "locked": true,
     "schema_version": 1,
     "solution": false
    }
   },
   "source": [
    "# Association rule mining\n",
    "\n",
    "In this notebook, you'll implement the basic pairwise association rule mining algorithm.\n",
    "\n",
    "To keep the implementation simple, you will apply your implementation to a simplified dataset, namely, letters (\"items\") in words (\"receipts\" or \"baskets\"). Having finished that code, you will then apply that code to some grocery store market basket data. If you write the code well, it will not be difficult to reuse building blocks from the letter case in the basket data case."
   ]
  },
  {
   "cell_type": "markdown",
   "metadata": {
    "deletable": false,
    "editable": false,
    "nbgrader": {
     "grade": false,
     "grade_id": "cell-1e479ae0017ab834",
     "locked": true,
     "schema_version": 1,
     "solution": false
    }
   },
   "source": [
    "## Problem definition\n",
    "\n",
    "Let's say you have a fragment of text in some language. You wish to know whether there are association rules among the letters that appear in a word. In this problem:\n",
    "\n",
    "- Words are \"receipts\"\n",
    "- Letters within a word are \"items\"\n",
    "\n",
    "You want to know whether there are _association rules_ of the form, $a \\implies b$, where $a$ and $b$ are letters. You will write code to do that by calculating for each rule its _confidence_, $\\mathrm{conf}(a \\implies b)$. \"Confidence\" will be another name for an estimate of the conditional probability of $b$ given $a$, or $\\mathrm{Pr}[b \\,|\\, a]$."
   ]
  },
  {
   "cell_type": "markdown",
   "metadata": {
    "deletable": false,
    "editable": false,
    "nbgrader": {
     "grade": false,
     "grade_id": "cell-ea2ad5c7719c9ad4",
     "locked": true,
     "schema_version": 1,
     "solution": false
    }
   },
   "source": [
    "## Sample text input\n",
    "\n",
    "Let's carry out this analysis on a \"dummy\" text fragment, which graphic designers refer to as the [_lorem ipsum_](https://en.wikipedia.org/wiki/Lorem_ipsum):"
   ]
  },
  {
   "cell_type": "code",
   "execution_count": 1,
   "metadata": {
    "deletable": false,
    "editable": false,
    "nbgrader": {
     "grade": false,
     "grade_id": "cell-556d0c072a973073",
     "locked": true,
     "schema_version": 1,
     "solution": false
    }
   },
   "outputs": [
    {
     "name": "stdout",
     "output_type": "stream",
     "text": [
      "First 100 characters:\n",
      "  \n",
      "Sed ut perspiciatis, unde omnis iste natus error sit\n",
      "voluptatem accusantium doloremque laudantium,  ...\n"
     ]
    }
   ],
   "source": [
    "latin_text = \"\"\"\n",
    "Sed ut perspiciatis, unde omnis iste natus error sit\n",
    "voluptatem accusantium doloremque laudantium, totam\n",
    "rem aperiam eaque ipsa, quae ab illo inventore\n",
    "veritatis et quasi architecto beatae vitae dicta\n",
    "sunt, explicabo. Nemo enim ipsam voluptatem, quia\n",
    "voluptas sit, aspernatur aut odit aut fugit, sed\n",
    "quia consequuntur magni dolores eos, qui ratione\n",
    "voluptatem sequi nesciunt, neque porro quisquam est,\n",
    "qui dolorem ipsum, quia dolor sit amet consectetur\n",
    "adipisci[ng] velit, sed quia non numquam [do] eius\n",
    "modi tempora inci[di]dunt, ut labore et dolore\n",
    "magnam aliquam quaerat voluptatem. Ut enim ad minima\n",
    "veniam, quis nostrum exercitationem ullam corporis\n",
    "suscipit laboriosam, nisi ut aliquid ex ea commodi\n",
    "consequatur? Quis autem vel eum iure reprehenderit,\n",
    "qui in ea voluptate velit esse, quam nihil molestiae\n",
    "consequatur, vel illum, qui dolorem eum fugiat, quo\n",
    "voluptas nulla pariatur?\n",
    "\n",
    "At vero eos et accusamus et iusto odio dignissimos\n",
    "ducimus, qui blanditiis praesentium voluptatum\n",
    "deleniti atque corrupti, quos dolores et quas\n",
    "molestias excepturi sint, obcaecati cupiditate non\n",
    "provident, similique sunt in culpa, qui officia\n",
    "deserunt mollitia animi, id est laborum et dolorum\n",
    "fuga. Et harum quidem rerum facilis est et expedita\n",
    "distinctio. Nam libero tempore, cum soluta nobis est\n",
    "eligendi optio, cumque nihil impedit, quo minus id,\n",
    "quod maxime placeat, facere possimus, omnis voluptas\n",
    "assumenda est, omnis dolor repellendus. Temporibus\n",
    "autem quibusdam et aut officiis debitis aut rerum\n",
    "necessitatibus saepe eveniet, ut et voluptates\n",
    "repudiandae sint et molestiae non recusandae. Itaque\n",
    "earum rerum hic tenetur a sapiente delectus, ut aut\n",
    "reiciendis voluptatibus maiores alias consequatur\n",
    "aut perferendis doloribus asperiores repellat.\n",
    "\"\"\"\n",
    "\n",
    "print(\"First 100 characters:\\n  {} ...\".format(latin_text[:100]))"
   ]
  },
  {
   "cell_type": "markdown",
   "metadata": {
    "deletable": false,
    "editable": false,
    "nbgrader": {
     "grade": false,
     "grade_id": "cell-a5563988504ab7d3",
     "locked": true,
     "schema_version": 1,
     "solution": false
    }
   },
   "source": [
    "**Exercise 0** (ungraded). Look up and read the translation of _lorem ipsum_!"
   ]
  },
  {
   "cell_type": "markdown",
   "metadata": {
    "deletable": false,
    "editable": false,
    "nbgrader": {
     "grade": false,
     "grade_id": "cell-5c173f535da4a3b7",
     "locked": true,
     "schema_version": 1,
     "solution": false
    }
   },
   "source": [
    "**Data cleaning.** Like most data in the real world, this dataset is noisy. It has both uppercase and lowercase letters, words have repeated letters, and there are all sorts of non-alphabetic characters. For our analysis, we should keep all the letters and spaces (so we can identify distinct words), but we should ignore case and ignore repetition within a word.\n",
    "\n",
    "For example, the eighth word of this text is \"error.\" As an _itemset_, it consists of the three unique letters, $\\{e, o, r\\}$. That is, treat the word as a set, meaning you only keep the unique letters.\n",
    "\n",
    "This itemset has three possible _itempairs_: $\\{e, o\\}$, $\\{e, r\\}$, and $\\{o, r\\}$.\n",
    "\n",
    "> Since sets are unordered, note that we would regard $\\{e, o\\} = \\{o, e\\}$, which is why we say there are only three itempairs, rather than six.\n",
    "\n",
    "Start by writing some code to help \"clean up\" the input."
   ]
  },
  {
   "cell_type": "markdown",
   "metadata": {
    "deletable": false,
    "editable": false,
    "nbgrader": {
     "grade": false,
     "grade_id": "cell-aa9c675c7da751f1",
     "locked": true,
     "schema_version": 1,
     "solution": false
    }
   },
   "source": [
    "**Exercise 1** (`normalize_string_test`: 2 points). Complete the following function, `normalize_string(s)`. The input `s` is a string (`str` object). The function should return a new string with (a) all characters converted to lowercase and (b) all non-alphabetic, non-whitespace characters removed.\n",
    "\n",
    "> _Clarification_. Scanning the sample text, `latin_text`, you may see things that look like special cases. For instance, `inci[di]dunt` and `[do]`. For these, simply remove the non-alphabetic characters and only separate the words if there is explicit whitespace.\n",
    ">\n",
    "> For instance, `inci[di]dunt` would become `incididunt` (as a single word) and `[do]` would become `do` as a standalone word because the original string has whitespace on either side. A period or comma without whitespace would, similarly, just be treated as a non-alphabetic character inside a word _unless_ there is explicit whitespace. So `e pluribus.unum basium` would become `e pluribusunum basium` even though your common-sense understanding might separate `pluribus` and `unum`.\n",
    ">\n",
    "> _Hint_. Regard as a whitespace character anything \"whitespace-like.\" That is, consider not just regular spaces, but also tabs, newlines, and perhaps others. To detect whitespaces easily, look for a \"high-level\" function that can help you do so rather than checking for literal space characters."
   ]
  },
  {
   "cell_type": "code",
   "execution_count": 2,
   "metadata": {
    "nbgrader": {
     "grade": false,
     "grade_id": "normalize_string",
     "locked": false,
     "schema_version": 1,
     "solution": true
    }
   },
   "outputs": [
    {
     "name": "stdout",
     "output_type": "stream",
     "text": [
      "\n",
      "Sed ut perspiciatis, unde omnis iste natus error sit\n",
      "voluptatem accusantium doloremque laudantium,  ...\n",
      "=> \n",
      "sed ut perspiciatis unde omnis iste natus error sit\n",
      "voluptatem accusantium doloremque laudantium  ...\n"
     ]
    }
   ],
   "source": [
    "def normalize_string(s):\n",
    "    assert type (s) is str\n",
    "    return ''.join([i for i in s.lower() if i.isalpha()|i.isspace()])\n",
    "\n",
    "    ###\n",
    "    ### YOUR CODE HERE\n",
    "    ###\n",
    "    \n",
    "# Demo:\n",
    "print(latin_text[:100], \"...\\n=>\", normalize_string(latin_text[:100]), \"...\")"
   ]
  },
  {
   "cell_type": "code",
   "execution_count": 3,
   "metadata": {
    "deletable": false,
    "editable": false,
    "nbgrader": {
     "grade": true,
     "grade_id": "normalize_string_test",
     "locked": true,
     "points": 2,
     "schema_version": 1,
     "solution": false
    }
   },
   "outputs": [
    {
     "name": "stdout",
     "output_type": "stream",
     "text": [
      "\n",
      "(Passed!)\n"
     ]
    }
   ],
   "source": [
    "# `normalize_string_test`: Test cell\n",
    "norm_latin_text = normalize_string(latin_text)\n",
    "\n",
    "assert type(norm_latin_text) is str\n",
    "assert len(norm_latin_text) == 1694\n",
    "assert all([c.isalpha() or c.isspace() for c in norm_latin_text])\n",
    "assert norm_latin_text == norm_latin_text.lower()\n",
    "\n",
    "print(\"\\n(Passed!)\")"
   ]
  },
  {
   "cell_type": "markdown",
   "metadata": {
    "deletable": false,
    "editable": false,
    "nbgrader": {
     "grade": false,
     "grade_id": "cell-1aeaeca8482415e3",
     "locked": true,
     "schema_version": 1,
     "solution": false
    }
   },
   "source": [
    "**Exercise 2** (`get_normalized_words_test`: 1 point). Implement the following function, `get_normalized_words(s)`. It takes as input a string `s` (i.e., a `str` object). It normalize `s` and then return a list of its words. (That is, the function should not assume that the input `s` may not be normalized yet.)\n",
    "\n",
    "For example, `get_normalized_words(latin_text)` will return the following:\n",
    "\n",
    "```python\n",
    "    ['sed', 'ut', 'perspiciatis', 'unde', 'omnis', ...]\n",
    "```\n",
    "\n",
    "(Only the first five entries of the output are shown.)"
   ]
  },
  {
   "cell_type": "code",
   "execution_count": 4,
   "metadata": {
    "nbgrader": {
     "grade": false,
     "grade_id": "get_normalized_words",
     "locked": false,
     "schema_version": 1,
     "solution": true
    }
   },
   "outputs": [
    {
     "name": "stdout",
     "output_type": "stream",
     "text": [
      "First five words:\n",
      "['sed', 'ut', 'perspiciatis', 'unde', 'omnis']\n"
     ]
    }
   ],
   "source": [
    "def get_normalized_words (s):\n",
    "    assert type(s) is str\n",
    "    return normalize_string(s).split()\n",
    "    ###\n",
    "    ### YOUR CODE HERE\n",
    "    ###\n",
    "\n",
    "# Demo:\n",
    "print(\"First five words:\\n{}\".format(get_normalized_words(latin_text)[:5]))"
   ]
  },
  {
   "cell_type": "code",
   "execution_count": 5,
   "metadata": {
    "deletable": false,
    "editable": false,
    "nbgrader": {
     "grade": true,
     "grade_id": "get_normalized_words_test",
     "locked": true,
     "points": 1,
     "schema_version": 1,
     "solution": false
    }
   },
   "outputs": [
    {
     "name": "stdout",
     "output_type": "stream",
     "text": [
      "\n",
      "(Passed.)\n"
     ]
    }
   ],
   "source": [
    "# `get_normalized_words_test`: Test cell\n",
    "norm_latin_words = get_normalized_words(norm_latin_text)\n",
    "\n",
    "assert len(norm_latin_words) == 250\n",
    "for i, w in [(20, 'illo'), (73, 'eius'), (144, 'deleniti'), (248, 'asperiores')]:\n",
    "    assert norm_latin_words[i] == w\n",
    "\n",
    "print (\"\\n(Passed.)\")"
   ]
  },
  {
   "cell_type": "markdown",
   "metadata": {
    "deletable": false,
    "editable": false,
    "nbgrader": {
     "grade": false,
     "grade_id": "cell-518787cb33ce90f5",
     "locked": true,
     "schema_version": 1,
     "solution": false
    }
   },
   "source": [
    "**Exercise 3** (`make_itemsets_test`: 2 points). Implement a function, `make_itemsets(words)`. The input, `words`, is a list of strings. Your function should convert the characters of each string into an itemset and then return the list of all itemsets. These output itemsets should appear in the same order as their corresponding words in the input.\n",
    "\n",
    "For example, consider the following:\n",
    "\n",
    "```python\n",
    "    make_itemsets(['sed', 'ut', 'perspiciatis', 'unde', 'omnis'])\n",
    "```\n",
    "\n",
    "This would return the list,\n",
    "\n",
    "```python\n",
    "[{'d', 'e', 's'},\n",
    " {'t', 'u'},\n",
    " {'a', 'c', 'e', 'i', 'p', 'r', 's', 't'},\n",
    " {'d', 'e', 'n', 'u'},\n",
    " {'i', 'm', 'n', 'o', 's'}]\n",
    "```\n",
    "\n",
    "> Because sets are unordered, different versions of Python may produce sets with whose element-ordering differs from what you see above. However, the sets themselves should be in this order in the output list, since that is the order in which the corresponding words were given."
   ]
  },
  {
   "cell_type": "code",
   "execution_count": 6,
   "metadata": {
    "nbgrader": {
     "grade": false,
     "grade_id": "make_itemsets",
     "locked": false,
     "schema_version": 1,
     "solution": true
    }
   },
   "outputs": [
    {
     "data": {
      "text/plain": [
       "[{'d', 'e', 's'},\n",
       " {'t', 'u'},\n",
       " {'a', 'c', 'e', 'i', 'p', 'r', 's', 't'},\n",
       " {'d', 'e', 'n', 'u'},\n",
       " {'i', 'm', 'n', 'o', 's'}]"
      ]
     },
     "execution_count": 6,
     "metadata": {},
     "output_type": "execute_result"
    }
   ],
   "source": [
    "def make_itemsets(words):\n",
    "    return [set(w) for w in words]\n",
    "    \n",
    "    ###\n",
    "    ### YOUR CODE HERE\n",
    "    ###\n",
    "    \n",
    "make_itemsets(['sed', 'ut', 'perspiciatis', 'unde', 'omnis'])"
   ]
  },
  {
   "cell_type": "code",
   "execution_count": 7,
   "metadata": {
    "deletable": false,
    "editable": false,
    "nbgrader": {
     "grade": true,
     "grade_id": "make_itemsets_test",
     "locked": true,
     "points": 2,
     "schema_version": 1,
     "solution": false
    }
   },
   "outputs": [
    {
     "name": "stdout",
     "output_type": "stream",
     "text": [
      "[74] modi --> {'m', 'o', 'i', 'd'}\n",
      "[72] do --> {'o', 'd'}\n",
      "[110] qui --> {'q', 'i', 'u'}\n",
      "[80] dolore --> {'l', 'r', 'e', 'd', 'o'}\n",
      "[150] quas --> {'q', 's', 'a', 'u'}\n",
      "\n",
      "(Passed!)\n"
     ]
    }
   ],
   "source": [
    "# `make_itemsets_test`: Test cell\n",
    "norm_latin_itemsets = make_itemsets(norm_latin_words)\n",
    "\n",
    "# Lists should have the same size\n",
    "assert len(norm_latin_itemsets) == len(norm_latin_words)\n",
    "\n",
    "# Test a random sample\n",
    "from random import sample\n",
    "for i in sample(range(len(norm_latin_words)), 5):\n",
    "    print('[{}]'.format(i), norm_latin_words[i], \"-->\", norm_latin_itemsets[i])\n",
    "    assert set(norm_latin_words[i]) == norm_latin_itemsets[i]\n",
    "print(\"\\n(Passed!)\")"
   ]
  },
  {
   "cell_type": "markdown",
   "metadata": {
    "deletable": false,
    "editable": false,
    "nbgrader": {
     "grade": false,
     "grade_id": "cell-4c74b6b365ee1130",
     "locked": true,
     "schema_version": 1,
     "solution": false
    }
   },
   "source": [
    "## Implementing the basic algorithm\n",
    "\n",
    "Recall the pseudocode for the algorithm that Rachel and Rich derived together:\n",
    "\n",
    "![FindAssocRules (pseudocode)](https://ndownloader.figshare.com/files/7635700?private_link=3c473609741895a5cc2c)\n",
    "\n",
    "In the following series of exercises, let's implement this method. We'll build it \"bottom-up,\" first defining small pieces and working our way toward the complete algorithm. This method allows us to test each piece before combining them.\n",
    "\n",
    "Observe that the bulk of the work in this procedure is just updating these tables, $T$ and $C$. So your biggest implementation decision is how to store those. A good choice is to use a dictionary"
   ]
  },
  {
   "cell_type": "markdown",
   "metadata": {
    "deletable": false,
    "editable": false,
    "nbgrader": {
     "grade": false,
     "grade_id": "cell-4c052d77d909f1d8",
     "locked": true,
     "schema_version": 1,
     "solution": false
    }
   },
   "source": [
    "## Aside: Default dictionaries\n",
    "\n",
    "Recall that the overall algorithm requires maintaining a table of item-pair (tuples) counts. It would be convenient to use a dictionary to store this table, where keys refer to item-pairs and the values are the counts.\n",
    "\n",
    "However, with Python's built-in dictionaries, you always to have to check whether a key exists before updating it. For example, consider this code fragment:\n",
    "\n",
    "```python\n",
    "D = {'existing-key': 5} # Dictionary with one key-value pair\n",
    "\n",
    "D['existing-key'] += 1 # == 6\n",
    "D['new-key'] += 1  # Error: 'new-key' does not exist!\n",
    "```\n",
    "\n",
    "The second attempt causes an error because `'new-key'` is not yet a member of the dictionary. So, a more correct approach would be to do the following:\n",
    "\n",
    "```python\n",
    "D = {'existing-key': 5} # Dictionary with one key-value pair\n",
    "\n",
    "if 'existing-key' not in D:\n",
    "    D['existing-key'] = 0\n",
    "D['existing-key'] += 1\n",
    "   \n",
    "if 'new-key' not in D:\n",
    "    D['new-key'] = 0\n",
    "D['new-key'] += 1\n",
    "```\n",
    "\n",
    "This pattern is so common that there is a special form of dictionary, called a _default dictionary_, which is available from the `collections` module: [`collections.defaultdict`](https://docs.python.org/3/library/collections.html?highlight=defaultdict#collections.defaultdict).\n",
    "\n",
    "When you create a default dictionary, you need to provide a \"factory\" function that the dictionary can use to create an initial value when the key does *not* exist. For instance, in the preceding example, when the key was not present the code creates a new key with the initial value of an integer zero (0). Indeed, this default value is the one you get when you call `int()` with no arguments:"
   ]
  },
  {
   "cell_type": "code",
   "execution_count": 8,
   "metadata": {
    "deletable": false,
    "editable": false,
    "nbgrader": {
     "grade": false,
     "grade_id": "cell-6592cfa8208f3f4c",
     "locked": true,
     "schema_version": 1,
     "solution": false
    }
   },
   "outputs": [
    {
     "name": "stdout",
     "output_type": "stream",
     "text": [
      "0\n"
     ]
    }
   ],
   "source": [
    "print(int())"
   ]
  },
  {
   "cell_type": "code",
   "execution_count": 9,
   "metadata": {
    "deletable": false,
    "editable": false,
    "nbgrader": {
     "grade": false,
     "grade_id": "cell-6f9dc2b535bb2277",
     "locked": true,
     "schema_version": 1,
     "solution": false
    }
   },
   "outputs": [
    {
     "name": "stdout",
     "output_type": "stream",
     "text": [
      "defaultdict(<class 'int'>, {'existing-key': 6, 'new-key': 1})\n"
     ]
    }
   ],
   "source": [
    "from collections import defaultdict\n",
    "\n",
    "D2 = defaultdict(int) # Empty dictionary\n",
    "\n",
    "D2['existing-key'] = 5 # Create one key-value pair\n",
    "\n",
    "D2['existing-key'] += 1 # Update\n",
    "D2['new-key'] += 1\n",
    "\n",
    "print(D2)"
   ]
  },
  {
   "cell_type": "markdown",
   "metadata": {
    "deletable": false,
    "editable": false,
    "nbgrader": {
     "grade": false,
     "grade_id": "cell-7478c14e721f5546",
     "locked": true,
     "schema_version": 1,
     "solution": false
    }
   },
   "source": [
    "**Exercise 4** (`update_pair_counts_test`: 2 points). Start by implementing a function that enumerates all item-pairs within an itemset and updates, _in-place_, a table that tracks the counts of those item-pairs.\n",
    "\n",
    "The signature of this function is:\n",
    "\n",
    "```python\n",
    "   def update_pair_counts(pair_counts, itemset):\n",
    "       ...\n",
    "```\n",
    "\n",
    "where you `pair_counts` is the table to update and `itemset` is the itemset from which you need to enumerate item-pairs. You may assume `pair_counts` is a default dictionary. Each key is a pair of items `(a, b)`, and each value is the count. You may assume all items in `itemset` are distinct, i.e., that you may treat it as you would any set-like collection. Since the function will modify `pair_counts`, it does not need to return an object."
   ]
  },
  {
   "cell_type": "code",
   "execution_count": 10,
   "metadata": {
    "nbgrader": {
     "grade": false,
     "grade_id": "update_pair_counts",
     "locked": false,
     "schema_version": 1,
     "solution": true
    }
   },
   "outputs": [
    {
     "name": "stdout",
     "output_type": "stream",
     "text": [
      "o e\n",
      "o r\n",
      "e r\n"
     ]
    },
    {
     "data": {
      "text/plain": [
       "defaultdict(int,\n",
       "            {('o', 'e'): 1,\n",
       "             ('e', 'o'): 1,\n",
       "             ('o', 'r'): 1,\n",
       "             ('r', 'o'): 1,\n",
       "             ('e', 'r'): 1,\n",
       "             ('r', 'e'): 1})"
      ]
     },
     "execution_count": 10,
     "metadata": {},
     "output_type": "execute_result"
    }
   ],
   "source": [
    "from collections import defaultdict\n",
    "import itertools as ite\n",
    "\n",
    "def update_pair_counts (pair_counts, itemset):\n",
    "    \"\"\"\n",
    "    Updates a dictionary of pair counts for\n",
    "    all pairs of items in a given itemset.\n",
    "    \"\"\"\n",
    "    assert type (pair_counts) is defaultdict\n",
    "    for i, w in ite.combinations(itemset,2):\n",
    "        print(i,w)\n",
    "        pair_counts[(i,w)]+=1\n",
    "        pair_counts[(w,i)]+=1\n",
    "\n",
    "    ###\n",
    "    ### YOUR CODE HERE\n",
    "    ###\n",
    "\n",
    "itemset_1=set(\"error\")\n",
    "len(itemset_1)\n",
    "pair_counts=defaultdict(int)\n",
    "update_pair_counts(pair_counts,itemset_1)\n",
    "pair_counts"
   ]
  },
  {
   "cell_type": "code",
   "execution_count": 11,
   "metadata": {
    "deletable": false,
    "editable": false,
    "nbgrader": {
     "grade": true,
     "grade_id": "update_pair_counts_test",
     "locked": true,
     "points": 2,
     "schema_version": 1,
     "solution": false
    }
   },
   "outputs": [
    {
     "name": "stdout",
     "output_type": "stream",
     "text": [
      "o e\n",
      "o r\n",
      "e r\n",
      "o d\n",
      "o r\n",
      "o l\n",
      "d r\n",
      "d l\n",
      "r l\n",
      "\"{'o', 'e', 'r'}\" + \"{'o', 'd', 'r', 'l'}\"\n",
      "==> defaultdict(<class 'int'>, {('o', 'e'): 1, ('e', 'o'): 1, ('o', 'r'): 2, ('r', 'o'): 2, ('e', 'r'): 1, ('r', 'e'): 1, ('o', 'd'): 1, ('d', 'o'): 1, ('o', 'l'): 1, ('l', 'o'): 1, ('d', 'r'): 1, ('r', 'd'): 1, ('d', 'l'): 1, ('l', 'd'): 1, ('r', 'l'): 1, ('l', 'r'): 1})\n",
      "\n",
      "(Passed!)\n"
     ]
    }
   ],
   "source": [
    "# `update_pair_counts_test`: Test cell\n",
    "itemset_1 = set(\"error\")\n",
    "itemset_2 = set(\"dolor\")\n",
    "pair_counts = defaultdict(int)\n",
    "\n",
    "update_pair_counts(pair_counts, itemset_1)\n",
    "assert len(pair_counts) == 6\n",
    "update_pair_counts(pair_counts, itemset_2)\n",
    "assert len(pair_counts) == 16\n",
    "\n",
    "print('\"{}\" + \"{}\"\\n==> {}'.format (itemset_1, itemset_2, pair_counts))\n",
    "for a, b in pair_counts:\n",
    "    assert (b, a) in pair_counts\n",
    "    assert pair_counts[(a, b)] == pair_counts[(b, a)]\n",
    "    \n",
    "print (\"\\n(Passed!)\")"
   ]
  },
  {
   "cell_type": "markdown",
   "metadata": {
    "deletable": false,
    "editable": false,
    "nbgrader": {
     "grade": false,
     "grade_id": "cell-138bdd5a6eecdbf3",
     "locked": true,
     "schema_version": 1,
     "solution": false
    }
   },
   "source": [
    "**Exercise 5** (`update_item_counts_test`: 2 points). Implement a procedure that, given an itemset, updates a table to track counts of each item.\n",
    "\n",
    "As with the previous exercise, you may assume all items in the given itemset (`itemset`) are distinct, i.e., that you may treat it as you would any set-like collection. You may also assume the table (`item_counts`) is a default dictionary."
   ]
  },
  {
   "cell_type": "code",
   "execution_count": 12,
   "metadata": {
    "collapsed": true,
    "nbgrader": {
     "grade": false,
     "grade_id": "update_item_counts",
     "locked": false,
     "schema_version": 1,
     "solution": true
    }
   },
   "outputs": [],
   "source": [
    "def update_item_counts(item_counts, itemset):\n",
    "    for i in itemset:\n",
    "        item_counts[i]+=1\n",
    "    ###\n",
    "    ### YOUR CODE HERE\n",
    "    ###\n",
    "item_counts=defaultdict(int)\n",
    "itemset_1=set(\"error\")\n",
    "update_item_counts(item_counts,itemset_1)"
   ]
  },
  {
   "cell_type": "code",
   "execution_count": 13,
   "metadata": {
    "deletable": false,
    "editable": false,
    "nbgrader": {
     "grade": true,
     "grade_id": "update_item_counts_test",
     "locked": true,
     "points": 2,
     "schema_version": 1,
     "solution": false
    }
   },
   "outputs": [
    {
     "name": "stdout",
     "output_type": "stream",
     "text": [
      "\n",
      "(Passed!)\n"
     ]
    }
   ],
   "source": [
    "# `update_item_counts_test`: Test cell\n",
    "itemset_1 = set(\"error\")\n",
    "itemset_2 = set(\"dolor\")\n",
    "\n",
    "item_counts = defaultdict(int)\n",
    "update_item_counts(item_counts, itemset_1)\n",
    "assert len(item_counts) == 3\n",
    "update_item_counts(item_counts, itemset_2)\n",
    "assert len(item_counts) == 5\n",
    "\n",
    "assert item_counts['d'] == 1\n",
    "assert item_counts['e'] == 1\n",
    "assert item_counts['l'] == 1\n",
    "assert item_counts['o'] == 2\n",
    "assert item_counts['r'] == 2\n",
    "\n",
    "print(\"\\n(Passed!)\")"
   ]
  },
  {
   "cell_type": "markdown",
   "metadata": {
    "deletable": false,
    "editable": false,
    "nbgrader": {
     "grade": false,
     "grade_id": "cell-286805ebda025a3e",
     "locked": true,
     "schema_version": 1,
     "solution": false
    }
   },
   "source": [
    "**Exercise 6** (`filter_rules_by_conf_test`: 2 points). Given tables of item-pair counts and individual item counts, as well as a confidence threshold, return the rules that meet the threshold. The returned rules should be in the form of a dictionary whose key is the tuple, $(a, b)$ corresponding to the rule $a \\Rightarrow b$, and whose value is the confidence of the rule, $\\mathrm{conf}(a \\Rightarrow b)$.\n",
    "\n",
    "You may assume that if $(a, b)$ is in the table of item-pair counts, then both $a$ and $b$ are in the table of individual item counts."
   ]
  },
  {
   "cell_type": "code",
   "execution_count": 14,
   "metadata": {
    "collapsed": true,
    "nbgrader": {
     "grade": false,
     "grade_id": "filter_rules_by_conf",
     "locked": false,
     "schema_version": 1,
     "solution": true
    }
   },
   "outputs": [],
   "source": [
    "def filter_rules_by_conf (pair_counts, item_counts, threshold):\n",
    "    rules = {} # (item_a, item_b) -> conf (item_a => item_b)\n",
    "    for i in item_counts:\n",
    "        for w in pair_counts:\n",
    "            if i in w:\n",
    "                if (pair_counts[w]/item_counts[i])>threshold:\n",
    "                    rules[w]=(pair_counts[w]/item_counts[i])\n",
    "    ###\n",
    "    ### YOUR CODE HERE\n",
    "    ###\n",
    "    return rules"
   ]
  },
  {
   "cell_type": "code",
   "execution_count": 15,
   "metadata": {
    "deletable": false,
    "editable": false,
    "nbgrader": {
     "grade": true,
     "grade_id": "filter_rules_by_conf_test",
     "locked": true,
     "points": 2,
     "schema_version": 1,
     "solution": false
    }
   },
   "outputs": [
    {
     "name": "stdout",
     "output_type": "stream",
     "text": [
      "Found these rules: {('man', 'woman'): 0.7142857142857143, ('red fish', 'blue fish'): 0.6363636363636364}\n",
      "\n",
      "(Passed first test -- your code seems to find the right rules.)\n",
      "\n",
      "(Passed second test -- your code also seems to get the right confidence values.)\n"
     ]
    }
   ],
   "source": [
    "# `filter_rules_by_conf_test`: Test cell\n",
    "pair_counts = {('man', 'woman'): 5,\n",
    "               ('bird', 'bee'): 3,\n",
    "               ('red fish', 'blue fish'): 7}\n",
    "item_counts = {'man': 7,\n",
    "               'bird': 9,\n",
    "               'red fish': 11}\n",
    "rules = filter_rules_by_conf(pair_counts, item_counts, 0.5)\n",
    "print(\"Found these rules:\", rules)\n",
    "assert ('man', 'woman') in rules\n",
    "assert ('bird', 'bee') not in rules\n",
    "assert ('red fish', 'blue fish') in rules\n",
    "print(\"\\n(Passed first test -- your code seems to find the right rules.)\")\n",
    "\n",
    "import math\n",
    "for a, b, c in [('man', 'woman', 0.7142857142857143), ('red fish', 'blue fish', 0.6363636363636364)]:\n",
    "    assert math.isclose(rules[(a, b)], c, rel_tol=1e-3), \\\n",
    "           f\"conf('{a}' => '{b}') should be about {c:.4f}, but you computed {rules[(a, b)]}.\"\n",
    "print(\"\\n(Passed second test -- your code also seems to get the right confidence values.)\")"
   ]
  },
  {
   "cell_type": "markdown",
   "metadata": {
    "deletable": false,
    "editable": false,
    "nbgrader": {
     "grade": false,
     "grade_id": "cell-f7a79702cbc24148",
     "locked": true,
     "schema_version": 1,
     "solution": false
    }
   },
   "source": [
    "**Aside: pretty printing the rules.** The output of rules above is a little messy; here's a little helper function that structures that output a little, which will be useful for both debugging and reporting purposes."
   ]
  },
  {
   "cell_type": "code",
   "execution_count": 16,
   "metadata": {
    "deletable": false,
    "editable": false,
    "nbgrader": {
     "grade": false,
     "grade_id": "cell-69ef4998074c91ea",
     "locked": true,
     "schema_version": 1,
     "solution": false
    }
   },
   "outputs": [
    {
     "name": "stdout",
     "output_type": "stream",
     "text": [
      "conf(man => woman) = 0.714\n",
      "conf(red fish => blue fish) = 0.636\n"
     ]
    }
   ],
   "source": [
    "def gen_rule_str(a, b, val=None, val_fmt='{:.3f}', sep=\" = \"):\n",
    "    text = \"{} => {}\".format(a, b)\n",
    "    if val:\n",
    "        text = \"conf(\" + text + \")\"\n",
    "        text += sep + val_fmt.format(val)\n",
    "    return text\n",
    "\n",
    "def print_rules(rules):\n",
    "    if type(rules) is dict or type(rules) is defaultdict:\n",
    "        from operator import itemgetter\n",
    "        ordered_rules = sorted(rules.items(), key=itemgetter(1), reverse=True)\n",
    "    else: # Assume rules is iterable\n",
    "        ordered_rules = [((a, b), None) for a, b in rules]\n",
    "    for (a, b), conf_ab in ordered_rules:\n",
    "        print(gen_rule_str(a, b, conf_ab))\n",
    "\n",
    "# Demo:\n",
    "print_rules(rules)"
   ]
  },
  {
   "cell_type": "markdown",
   "metadata": {
    "deletable": false,
    "editable": false,
    "nbgrader": {
     "grade": false,
     "grade_id": "cell-b564ebbe2fe2a051",
     "locked": true,
     "schema_version": 1,
     "solution": false
    }
   },
   "source": [
    "**Exercise 7** (`find_assoc_rules_test`: 3 points). Using the building blocks you implemented above, complete a function `find_assoc_rules` so that it implements the basic association rule mining algorithm and returns a dictionary of rules.\n",
    "\n",
    "In particular, your implementation may assume the following:\n",
    "\n",
    "1. As indicated in its signature, below, the function takes two inputs: `receipts` and `threshold`.\n",
    "1. The input, `receipts`, is a collection of itemsets: for every receipt `r` in `receipts`, `r` may be treated as a collection of unique items.\n",
    "2. The input `threshold` is the minimum desired confidence value. That is, the function should only return rules whose confidence is at least `threshold`.\n",
    "\n",
    "The returned dictionary, `rules`, should be keyed by tuples $(a, b)$ corresponding to the rule $a \\Rightarrow b$; each value should the the confidence $\\mathrm{conf}(a \\Rightarrow b)$ of the rule."
   ]
  },
  {
   "cell_type": "code",
   "execution_count": 17,
   "metadata": {
    "collapsed": true,
    "nbgrader": {
     "grade": false,
     "grade_id": "find_assoc_rules",
     "locked": false,
     "schema_version": 1,
     "solution": true
    }
   },
   "outputs": [],
   "source": [
    "def find_assoc_rules(receipts, threshold):\n",
    "    pair_counts=defaultdict(int)\n",
    "    item_counts=defaultdict(int)\n",
    "    results={}\n",
    "    for i in receipts:\n",
    "        for (a,b) in ite.combinations(i,2):\n",
    "            pair_counts[(a,b)] +=1\n",
    "            pair_counts[(b,a)] +=1\n",
    "        for w in i:\n",
    "            item_counts[w] +=1\n",
    "    for (g,h) in pair_counts:\n",
    "        conf=pair_counts[(g,h)]/item_counts[g]\n",
    "        if conf>= threshold:\n",
    "            results[(g,h)]=conf\n",
    "    return results\n",
    "    ###\n",
    "    ### YOUR CODE HERE\n",
    "    ###\n"
   ]
  },
  {
   "cell_type": "code",
   "execution_count": 18,
   "metadata": {},
   "outputs": [
    {
     "data": {
      "text/plain": [
       "[{'a', 'b', 'c'}, {'a', 'c'}, {'a'}]"
      ]
     },
     "execution_count": 18,
     "metadata": {},
     "output_type": "execute_result"
    }
   ],
   "source": [
    "receipts=[set(\"abbc\"),set(\"ac\"),set(\"a\")]\n",
    "receipts"
   ]
  },
  {
   "cell_type": "code",
   "execution_count": 19,
   "metadata": {
    "deletable": false,
    "editable": false,
    "nbgrader": {
     "grade": true,
     "grade_id": "find_assoc_rules_test",
     "locked": true,
     "points": 3,
     "schema_version": 1,
     "solution": false
    }
   },
   "outputs": [
    {
     "name": "stdout",
     "output_type": "stream",
     "text": [
      "Original receipts as itemsets: [{'b', 'c', 'a'}, {'c', 'a'}, {'a'}]\n",
      "Resulting rules:\n",
      "conf(b => c) = 1.000\n",
      "conf(b => a) = 1.000\n",
      "conf(c => a) = 1.000\n",
      "conf(a => c) = 0.667\n",
      "\n",
      "(Passed!)\n"
     ]
    }
   ],
   "source": [
    "# `find_assoc_rules_test`: Test cell\n",
    "receipts = [set('abbc'), set('ac'), set('a')]\n",
    "rules = find_assoc_rules(receipts, 0.6)\n",
    "\n",
    "print(\"Original receipts as itemsets:\", receipts)\n",
    "print(\"Resulting rules:\")\n",
    "print_rules(rules)\n",
    "\n",
    "assert ('a', 'b') not in rules\n",
    "assert ('b', 'a') in rules\n",
    "assert ('a', 'c') in rules\n",
    "assert ('c', 'a') in rules\n",
    "assert ('b', 'c') in rules\n",
    "assert ('c', 'b') not in rules\n",
    "\n",
    "print(\"\\n(Passed!)\")"
   ]
  },
  {
   "cell_type": "markdown",
   "metadata": {
    "deletable": false,
    "editable": false,
    "nbgrader": {
     "grade": false,
     "grade_id": "cell-706f5b5bb1dbe542",
     "locked": true,
     "schema_version": 1,
     "solution": false
    }
   },
   "source": [
    "**Exercise 8** (`latin_rules_test`: 2 points). For the Latin string, `latin_text`, use your `find_assoc_rules()` function to compute the rules whose confidence is at least 0.75. Store your result in a variable named `latin_rules`."
   ]
  },
  {
   "cell_type": "code",
   "execution_count": 20,
   "metadata": {
    "nbgrader": {
     "grade": false,
     "grade_id": "latin_rules",
     "locked": false,
     "schema_version": 1,
     "solution": true
    }
   },
   "outputs": [
    {
     "name": "stdout",
     "output_type": "stream",
     "text": [
      "conf(q => u) = 1.000\n",
      "conf(x => e) = 1.000\n",
      "conf(h => i) = 0.833\n",
      "conf(x => i) = 0.833\n",
      "conf(v => t) = 0.818\n",
      "conf(r => e) = 0.800\n",
      "conf(v => e) = 0.773\n",
      "conf(b => i) = 0.750\n",
      "conf(f => i) = 0.750\n",
      "conf(g => i) = 0.750\n",
      "10\n"
     ]
    }
   ],
   "source": [
    "# Generate `latin_rules`:\n",
    "###\n",
    "### YOUR CODE HERE\n",
    "###\n",
    "# `get_normalized_words_test`: Test cell\n",
    "latin_text_norm= get_normalized_words(latin_text)\n",
    "latin_itemsets= make_itemsets(latin_text_norm)\n",
    "latin_rules = find_assoc_rules(latin_itemsets,0.75)\n",
    "\n",
    "\n",
    "print_rules(latin_rules)\n",
    "print(len(latin_rules))"
   ]
  },
  {
   "cell_type": "code",
   "execution_count": 21,
   "metadata": {
    "deletable": false,
    "editable": false,
    "nbgrader": {
     "grade": true,
     "grade_id": "latin_rules_test",
     "locked": true,
     "points": 2,
     "schema_version": 1,
     "solution": false
    }
   },
   "outputs": [
    {
     "name": "stdout",
     "output_type": "stream",
     "text": [
      "\n",
      "(Passed!)\n"
     ]
    }
   ],
   "source": [
    "# `latin_rules_test`: Test cell\n",
    "assert len(latin_rules) == 10\n",
    "assert all([0.75 <= v <= 1.0 for v in latin_rules.values()])\n",
    "for ab in ['xe', 'qu', 'hi', 'xi', 'vt', 're', 've', 'fi', 'gi', 'bi']:\n",
    "    assert (ab[0], ab[1]) in latin_rules\n",
    "print(\"\\n(Passed!)\")"
   ]
  },
  {
   "cell_type": "markdown",
   "metadata": {
    "deletable": false,
    "editable": false,
    "nbgrader": {
     "grade": false,
     "grade_id": "cell-73a1d629f6548461",
     "locked": true,
     "schema_version": 1,
     "solution": false
    }
   },
   "source": [
    "Next, let's analyze the rules common to Latin text _and_ English text. That is, suppose we have two lists of commonly occurring rules, one for Latin text (computed above as `latin_rules`) and one for English text; we'd like to know which pairs commonly occur in both.\n",
    "\n",
    "For the English text, here is an English translation of the _lorem ipsum_ text, encoded as the variable `english_text` in the next code cell:"
   ]
  },
  {
   "cell_type": "code",
   "execution_count": 22,
   "metadata": {
    "collapsed": true,
    "deletable": false,
    "editable": false,
    "nbgrader": {
     "grade": false,
     "grade_id": "cell-7f545767297a391a",
     "locked": true,
     "schema_version": 1,
     "solution": false
    }
   },
   "outputs": [],
   "source": [
    "english_text = \"\"\"\n",
    "But I must explain to you how all this mistaken idea\n",
    "of denouncing of a pleasure and praising pain was\n",
    "born and I will give you a complete account of the\n",
    "system, and expound the actual teachings of the great\n",
    "explorer of the truth, the master-builder of human\n",
    "happiness. No one rejects, dislikes, or avoids\n",
    "pleasure itself, because it is pleasure, but because\n",
    "those who do not know how to pursue pleasure\n",
    "rationally encounter consequences that are extremely\n",
    "painful. Nor again is there anyone who loves or\n",
    "pursues or desires to obtain pain of itself, because\n",
    "it is pain, but occasionally circumstances occur in\n",
    "which toil and pain can procure him some great\n",
    "pleasure. To take a trivial example, which of us\n",
    "ever undertakes laborious physical exercise, except\n",
    "to obtain some advantage from it? But who has any\n",
    "right to find fault with a man who chooses to enjoy\n",
    "a pleasure that has no annoying consequences, or\n",
    "one who avoids a pain that produces no resultant\n",
    "pleasure?\n",
    "\n",
    "On the other hand, we denounce with righteous\n",
    "indignation and dislike men who are so beguiled and\n",
    "demoralized by the charms of pleasure of the moment,\n",
    "so blinded by desire, that they cannot foresee the\n",
    "pain and trouble that are bound to ensue; and equal\n",
    "blame belongs to those who fail in their duty\n",
    "through weakness of will, which is the same as\n",
    "saying through shrinking from toil and pain. These\n",
    "cases are perfectly simple and easy to distinguish.\n",
    "In a free hour, when our power of choice is\n",
    "untrammeled and when nothing prevents our being\n",
    "able to do what we like best, every pleasure is to\n",
    "be welcomed and every pain avoided. But in certain\n",
    "circumstances and owing to the claims of duty or\n",
    "the obligations of business it will frequently\n",
    "occur that pleasures have to be repudiated and\n",
    "annoyances accepted. The wise man therefore always\n",
    "holds in these matters to this principle of\n",
    "selection: he rejects pleasures to secure other\n",
    "greater pleasures, or else he endures pains to\n",
    "avoid worse pains.\n",
    "\"\"\""
   ]
  },
  {
   "cell_type": "markdown",
   "metadata": {
    "deletable": false,
    "editable": false,
    "nbgrader": {
     "grade": false,
     "grade_id": "cell-aaff63d41d0ad432",
     "locked": true,
     "schema_version": 1,
     "solution": false
    }
   },
   "source": [
    "**Exercise 9** (`intersect_keys_test`: 2 points). Write a function that, given two dictionaries, finds the intersection of their keys."
   ]
  },
  {
   "cell_type": "code",
   "execution_count": 23,
   "metadata": {
    "collapsed": true,
    "nbgrader": {
     "grade": false,
     "grade_id": "intersect_keys",
     "locked": false,
     "schema_version": 1,
     "solution": true
    }
   },
   "outputs": [],
   "source": [
    "def intersect_keys(d1, d2):\n",
    "    assert type(d1) is dict or type(d1) is defaultdict\n",
    "    assert type(d2) is dict or type(d2) is defaultdict\n",
    "    final = {i:d1[i] for i in d1 if i in d2}\n",
    "    return final\n",
    " \n",
    "    ###\n",
    "    ### YOUR CODE HERE\n",
    "    ###\n"
   ]
  },
  {
   "cell_type": "code",
   "execution_count": 24,
   "metadata": {
    "collapsed": true
   },
   "outputs": [],
   "source": [
    "# def intersect_keys(d1, d2):\n",
    "#     assert type(d1) is dict or type(d1) is defaultdict\n",
    "#     assert type(d2) is dict or type(d2) is defaultdict\n",
    "#     d1_keys = set(d1.keys())\n",
    "#     d2_keys = set(d2.keys())\n",
    "#     intersect_dict = d1_keys & d2_keys\n",
    "#     return intersect_dict\n",
    "\n"
   ]
  },
  {
   "cell_type": "code",
   "execution_count": 25,
   "metadata": {
    "deletable": false,
    "editable": false,
    "nbgrader": {
     "grade": true,
     "grade_id": "intersect_keys_test",
     "locked": true,
     "points": 2,
     "schema_version": 1,
     "solution": false
    }
   },
   "outputs": [
    {
     "name": "stdout",
     "output_type": "stream",
     "text": [
      "\n",
      "(Passed!)\n"
     ]
    }
   ],
   "source": [
    "# `intersect_keys_test`: Test cell\n",
    "from random import sample\n",
    "\n",
    "key_space = {'ape', 'baboon', 'bonobo', 'chimp', 'gorilla', 'monkey', 'orangutan'}\n",
    "val_space = range(100)\n",
    "\n",
    "for trial in range(10): # Try 10 random tests\n",
    "    d1 = {k: v for k, v in zip(sample(key_space, 4), sample(val_space, 4))}\n",
    "    d2 = {k: v for k, v in zip(sample(key_space, 3), sample(val_space, 3))}\n",
    "    k_common = intersect_keys(d1, d2)\n",
    "    for k in key_space:\n",
    "        is_common = (k in k_common) and (k in d1) and (k in d2)\n",
    "        is_not_common = (k not in k_common) and ((k not in d1) or (k not in d2))\n",
    "        assert is_common or is_not_common\n",
    "        \n",
    "print(\"\\n(Passed!)\")"
   ]
  },
  {
   "cell_type": "markdown",
   "metadata": {
    "deletable": false,
    "editable": false,
    "nbgrader": {
     "grade": false,
     "grade_id": "cell-24b55c6bcbe30dc0",
     "locked": true,
     "schema_version": 1,
     "solution": false
    }
   },
   "source": [
    "**Exercise 10** (`common_high_conf_rules_test`: 1 points). Let's consider any rules with a confidence of at least 0.75 to be a \"high-confidence rule.\"\n",
    "\n",
    "Write some code that finds all high-confidence rules appearing in _both_ the Latin text _and_ the English text. Store your result in a list named `common_high_conf_rules` whose elements are $(a, b)$ pairs corresponding to the rules $a \\Rightarrow b$."
   ]
  },
  {
   "cell_type": "code",
   "execution_count": 26,
   "metadata": {
    "nbgrader": {
     "grade": false,
     "grade_id": "common_high_conf_rules",
     "locked": false,
     "schema_version": 1,
     "solution": true
    }
   },
   "outputs": [
    {
     "name": "stdout",
     "output_type": "stream",
     "text": [
      "High-confidence rules common to _lorem ipsum_ in Latin and English:\n",
      "conf(q => u) = 1.000\n",
      "conf(x => e) = 1.000\n"
     ]
    }
   ],
   "source": [
    "###\n",
    "### YOUR CODE HERE\n",
    "###\n",
    "\n",
    "def from_the_beginning(text,threshold):\n",
    "    text_norm=get_normalized_words(text)\n",
    "    itemsets = make_itemsets(text_norm)\n",
    "    return find_assoc_rules(itemsets,threshold)\n",
    "\n",
    "d1 = from_the_beginning(latin_text,0.75)\n",
    "d2 = from_the_beginning(english_text,0.75)\n",
    "\n",
    "common_high_conf_rules=intersect_keys(d1,d2)\n",
    "\n",
    "\n",
    "\n",
    "print(\"High-confidence rules common to _lorem ipsum_ in Latin and English:\")\n",
    "print_rules(common_high_conf_rules)"
   ]
  },
  {
   "cell_type": "code",
   "execution_count": 27,
   "metadata": {
    "deletable": false,
    "editable": false,
    "nbgrader": {
     "grade": true,
     "grade_id": "common_high_conf_rules_test",
     "locked": true,
     "points": 1,
     "schema_version": 1,
     "solution": false
    }
   },
   "outputs": [
    {
     "name": "stdout",
     "output_type": "stream",
     "text": [
      "\n",
      "(Passed!)\n"
     ]
    }
   ],
   "source": [
    "# `common_high_conf_rules_test`: Test cell\n",
    "assert len(common_high_conf_rules) == 2\n",
    "assert ('x', 'e') in common_high_conf_rules\n",
    "assert ('q', 'u') in common_high_conf_rules\n",
    "print(\"\\n(Passed!)\")"
   ]
  },
  {
   "cell_type": "markdown",
   "metadata": {
    "collapsed": true,
    "deletable": false,
    "editable": false,
    "nbgrader": {
     "grade": false,
     "grade_id": "cell-8b001f7cf9d3d952",
     "locked": true,
     "schema_version": 1,
     "solution": false
    }
   },
   "source": [
    "## Putting it all together: Actual baskets!\n",
    "\n",
    "Let's take a look at some real data that [someone](http://www.salemmarafi.com/code/market-basket-analysis-with-r/) was kind enough to prepare for a similar exercise designed for the R programming environment.\n",
    "\n",
    "First, here's a code snippet to load the data, which is a text file. If you are running in the Vocareum environment, we've already placed a copy of the data there; if you are running outside, this code will try to download a copy from the CSE 6040 website."
   ]
  },
  {
   "cell_type": "code",
   "execution_count": 28,
   "metadata": {
    "deletable": false,
    "editable": false,
    "nbgrader": {
     "grade": false,
     "grade_id": "cell-682648842e4c0f47",
     "locked": true,
     "schema_version": 1,
     "solution": false
    }
   },
   "outputs": [
    {
     "name": "stdout",
     "output_type": "stream",
     "text": [
      "'groceries.csv' is ready!\n",
      "citrus fruit,semi-finished bread,margarine,ready soups\n",
      "tropical fruit,yogurt,coffee\n",
      "whole milk\n",
      "pip fruit,yogurt,cream cheese ,meat spreads\n",
      "other vegetables,whole milk,condensed milk,long life bakery product\n",
      "whole milk,butter,yogurt,rice,abrasive clea...\n",
      "... (etc.) ...\n",
      "\n",
      "(All data appears to be ready.)\n"
     ]
    }
   ],
   "source": [
    "def on_vocareum():\n",
    "    import os\n",
    "    return os.path.exists('.voc')\n",
    "\n",
    "def download(file, local_dir=\"\", url_base=None, checksum=None):\n",
    "    import os, requests, hashlib, io\n",
    "    local_file = \"{}{}\".format(local_dir, file)\n",
    "    if not os.path.exists(local_file):\n",
    "        if url_base is None:\n",
    "            url_base = \"https://cse6040.gatech.edu/datasets/\"\n",
    "        url = \"{}{}\".format(url_base, file)\n",
    "        print(\"Downloading: {} ...\".format(url))\n",
    "        r = requests.get(url)\n",
    "        with open(local_file, 'wb') as f:\n",
    "            f.write(r.content)            \n",
    "    if checksum is not None:\n",
    "        with io.open(local_file, 'rb') as f:\n",
    "            body = f.read()\n",
    "            body_checksum = hashlib.md5(body).hexdigest()\n",
    "            assert body_checksum == checksum, \\\n",
    "                \"Downloaded file '{}' has incorrect checksum: '{}' instead of '{}'\".format(local_file,\n",
    "                                                                                           body_checksum,\n",
    "                                                                                           checksum)\n",
    "    print(\"'{}' is ready!\".format(file))\n",
    "    \n",
    "if on_vocareum():\n",
    "    DATA_PATH = \"../resource/asnlib/publicdata/\"\n",
    "else:\n",
    "    DATA_PATH = \"\"\n",
    "datasets = {'groceries.csv': '0a3d21c692be5c8ce55c93e59543dcbe'}\n",
    "\n",
    "for filename, checksum in datasets.items():\n",
    "    download(filename, local_dir=DATA_PATH, checksum=checksum)\n",
    "\n",
    "with open('{}{}'.format(DATA_PATH, 'groceries.csv')) as fp:\n",
    "    groceries_file = fp.read()\n",
    "print (groceries_file[0:250] + \"...\\n... (etc.) ...\") # Prints the first 250 characters only\n",
    "print(\"\\n(All data appears to be ready.)\")"
   ]
  },
  {
   "cell_type": "markdown",
   "metadata": {
    "deletable": false,
    "editable": false,
    "nbgrader": {
     "grade": false,
     "grade_id": "cell-5f24415cdf3c20e8",
     "locked": true,
     "schema_version": 1,
     "solution": false
    }
   },
   "source": [
    "Each line of this file is some customer's shopping basket. The items that the customer bought are stored as a comma-separated list of values."
   ]
  },
  {
   "cell_type": "markdown",
   "metadata": {
    "deletable": false,
    "editable": false,
    "nbgrader": {
     "grade": false,
     "grade_id": "cell-cd51e1426544e8bd",
     "locked": true,
     "schema_version": 1,
     "solution": false
    }
   },
   "source": [
    "**Exercise 11: Your task.** (`basket_rules_test`: 4 points). Your final task in this notebook is to mine this dataset for pairwise association rules. In particular, your code should produce (no pun intended!) a final dictionary, `basket_rules`, that meet these conditions (read carefully!):\n",
    "\n",
    "1. The keys are pairs $(a, b)$, where $a$ and $b$ are item names (as strings).\n",
    "2. The values are the corresponding confidence scores, $\\mathrm{conf}(a \\Rightarrow b)$.\n",
    "3. Only include rules $a \\Rightarrow b$ where item $a$ occurs at least `MIN_COUNT` times and $\\mathrm{conf}(a \\Rightarrow b)$ is at least `THRESHOLD`.\n",
    "\n",
    "Pay particular attention to Condition 3: not only do you have to filter by a confidence threshold, but you must exclude rules $a \\Rightarrow b$ where the item $a$ does not appear \"often enough.\" There is a code cell below that defines values of `MIN_COUNT` and `THRESHOLD`, but your code should work even if we decide to change those values later on.\n",
    "\n",
    "> _Aside_: Why would an analyst want to enforce Condition 3?\n",
    "\n",
    "Your solution can use the `groceries_file` string variable defined above as its starting point. And since it's in the same notebook, you may, of course, reuse any of the code you've written above as needed. Lastly, if you feel you need additional code cells, you can create them _after_ the code cell marked for your solution but _before_ the code marked, `### TEST CODE ###`."
   ]
  },
  {
   "cell_type": "code",
   "execution_count": 29,
   "metadata": {
    "collapsed": true,
    "deletable": false,
    "editable": false,
    "nbgrader": {
     "grade": false,
     "grade_id": "cell-debb3de1a73e4495",
     "locked": true,
     "schema_version": 1,
     "solution": false
    }
   },
   "outputs": [],
   "source": [
    "# Confidence threshold\n",
    "THRESHOLD = 0.5\n",
    "\n",
    "# Only consider rules for items appearing at least `MIN_COUNT` times.\n",
    "MIN_COUNT = 10"
   ]
  },
  {
   "cell_type": "code",
   "execution_count": 120,
   "metadata": {},
   "outputs": [
    {
     "data": {
      "text/plain": [
       "['citrus fruit', 'semi-finished bread', 'margarine', 'ready soups']"
      ]
     },
     "execution_count": 120,
     "metadata": {},
     "output_type": "execute_result"
    }
   ],
   "source": [
    "import pandas as pd\n",
    "s=groceries_file.split('\\n')\n",
    "s=pd.DataFrame(s)\n",
    "s.head()\n",
    "s.shape\n",
    "s.iloc[0,0].split(\",\")"
   ]
  },
  {
   "cell_type": "code",
   "execution_count": 104,
   "metadata": {
    "nbgrader": {
     "grade": false,
     "grade_id": "basket_rules",
     "locked": false,
     "schema_version": 1,
     "solution": true
    }
   },
   "outputs": [
    {
     "data": {
      "text/plain": [
       "defaultdict(int,\n",
       "            {('citrus fruit', 'semi-finished bread'): 23,\n",
       "             ('semi-finished bread', 'citrus fruit'): 23,\n",
       "             ('citrus fruit', 'margarine'): 77,\n",
       "             ('margarine', 'citrus fruit'): 77,\n",
       "             ('citrus fruit', 'ready soups'): 3,\n",
       "             ('ready soups', 'citrus fruit'): 3,\n",
       "             ('semi-finished bread', 'margarine'): 20,\n",
       "             ('margarine', 'semi-finished bread'): 20,\n",
       "             ('semi-finished bread', 'ready soups'): 4,\n",
       "             ('ready soups', 'semi-finished bread'): 4,\n",
       "             ('margarine', 'ready soups'): 5,\n",
       "             ('ready soups', 'margarine'): 5,\n",
       "             ('tropical fruit', 'yogurt'): 288,\n",
       "             ('yogurt', 'tropical fruit'): 288,\n",
       "             ('tropical fruit', 'coffee'): 70,\n",
       "             ('coffee', 'tropical fruit'): 70,\n",
       "             ('yogurt', 'coffee'): 95,\n",
       "             ('coffee', 'yogurt'): 95,\n",
       "             ('pip fruit', 'yogurt'): 174,\n",
       "             ('yogurt', 'pip fruit'): 174,\n",
       "             ('pip fruit', 'cream cheese '): 60,\n",
       "             ('cream cheese ', 'pip fruit'): 60,\n",
       "             ('pip fruit', 'meat spreads'): 5,\n",
       "             ('meat spreads', 'pip fruit'): 5,\n",
       "             ('yogurt', 'cream cheese '): 122,\n",
       "             ('cream cheese ', 'yogurt'): 122,\n",
       "             ('yogurt', 'meat spreads'): 18,\n",
       "             ('meat spreads', 'yogurt'): 18,\n",
       "             ('cream cheese ', 'meat spreads'): 11,\n",
       "             ('meat spreads', 'cream cheese '): 11,\n",
       "             ('other vegetables', 'whole milk'): 730,\n",
       "             ('whole milk', 'other vegetables'): 730,\n",
       "             ('other vegetables', 'condensed milk'): 25,\n",
       "             ('condensed milk', 'other vegetables'): 25,\n",
       "             ('other vegetables', 'long life bakery product'): 105,\n",
       "             ('long life bakery product', 'other vegetables'): 105,\n",
       "             ('whole milk', 'condensed milk'): 23,\n",
       "             ('condensed milk', 'whole milk'): 23,\n",
       "             ('whole milk', 'long life bakery product'): 133,\n",
       "             ('long life bakery product', 'whole milk'): 133,\n",
       "             ('condensed milk', 'long life bakery product'): 8,\n",
       "             ('long life bakery product', 'condensed milk'): 8,\n",
       "             ('whole milk', 'butter'): 268,\n",
       "             ('butter', 'whole milk'): 268,\n",
       "             ('whole milk', 'yogurt'): 543,\n",
       "             ('yogurt', 'whole milk'): 543,\n",
       "             ('whole milk', 'rice'): 45,\n",
       "             ('rice', 'whole milk'): 45,\n",
       "             ('whole milk', 'abrasive cleaner'): 16,\n",
       "             ('abrasive cleaner', 'whole milk'): 16,\n",
       "             ('butter', 'yogurt'): 143,\n",
       "             ('yogurt', 'butter'): 143,\n",
       "             ('butter', 'rice'): 18,\n",
       "             ('rice', 'butter'): 18,\n",
       "             ('butter', 'abrasive cleaner'): 5,\n",
       "             ('abrasive cleaner', 'butter'): 5,\n",
       "             ('yogurt', 'rice'): 23,\n",
       "             ('rice', 'yogurt'): 23,\n",
       "             ('yogurt', 'abrasive cleaner'): 9,\n",
       "             ('abrasive cleaner', 'yogurt'): 9,\n",
       "             ('rice', 'abrasive cleaner'): 3,\n",
       "             ('abrasive cleaner', 'rice'): 3,\n",
       "             ('other vegetables', 'UHT-milk'): 79,\n",
       "             ('UHT-milk', 'other vegetables'): 79,\n",
       "             ('other vegetables', 'rolls/buns'): 412,\n",
       "             ('rolls/buns', 'other vegetables'): 412,\n",
       "             ('other vegetables', 'bottled beer'): 157,\n",
       "             ('bottled beer', 'other vegetables'): 157,\n",
       "             ('other vegetables', 'liquor (appetizer)'): 14,\n",
       "             ('liquor (appetizer)', 'other vegetables'): 14,\n",
       "             ('UHT-milk', 'rolls/buns'): 61,\n",
       "             ('rolls/buns', 'UHT-milk'): 61,\n",
       "             ('UHT-milk', 'bottled beer'): 24,\n",
       "             ('bottled beer', 'UHT-milk'): 24,\n",
       "             ('UHT-milk', 'liquor (appetizer)'): 5,\n",
       "             ('liquor (appetizer)', 'UHT-milk'): 5,\n",
       "             ('rolls/buns', 'bottled beer'): 123,\n",
       "             ('bottled beer', 'rolls/buns'): 123,\n",
       "             ('rolls/buns', 'liquor (appetizer)'): 9,\n",
       "             ('liquor (appetizer)', 'rolls/buns'): 9,\n",
       "             ('bottled beer', 'liquor (appetizer)'): 18,\n",
       "             ('liquor (appetizer)', 'bottled beer'): 18,\n",
       "             ('tropical fruit', 'other vegetables'): 348,\n",
       "             ('other vegetables', 'tropical fruit'): 348,\n",
       "             ('tropical fruit', 'white bread'): 86,\n",
       "             ('white bread', 'tropical fruit'): 86,\n",
       "             ('tropical fruit', 'bottled water'): 180,\n",
       "             ('bottled water', 'tropical fruit'): 180,\n",
       "             ('tropical fruit', 'chocolate'): 80,\n",
       "             ('chocolate', 'tropical fruit'): 80,\n",
       "             ('other vegetables', 'white bread'): 134,\n",
       "             ('white bread', 'other vegetables'): 134,\n",
       "             ('other vegetables', 'bottled water'): 242,\n",
       "             ('bottled water', 'other vegetables'): 242,\n",
       "             ('other vegetables', 'chocolate'): 123,\n",
       "             ('chocolate', 'other vegetables'): 123,\n",
       "             ('white bread', 'bottled water'): 43,\n",
       "             ('bottled water', 'white bread'): 43,\n",
       "             ('white bread', 'chocolate'): 42,\n",
       "             ('chocolate', 'white bread'): 42,\n",
       "             ('bottled water', 'chocolate'): 56,\n",
       "             ('chocolate', 'bottled water'): 56,\n",
       "             ('citrus fruit', 'tropical fruit'): 193,\n",
       "             ('tropical fruit', 'citrus fruit'): 193,\n",
       "             ('citrus fruit', 'whole milk'): 297,\n",
       "             ('whole milk', 'citrus fruit'): 297,\n",
       "             ('citrus fruit', 'butter'): 89,\n",
       "             ('butter', 'citrus fruit'): 89,\n",
       "             ('citrus fruit', 'curd'): 69,\n",
       "             ('curd', 'citrus fruit'): 69,\n",
       "             ('citrus fruit', 'yogurt'): 212,\n",
       "             ('yogurt', 'citrus fruit'): 212,\n",
       "             ('citrus fruit', 'flour'): 32,\n",
       "             ('flour', 'citrus fruit'): 32,\n",
       "             ('citrus fruit', 'bottled water'): 132,\n",
       "             ('bottled water', 'citrus fruit'): 132,\n",
       "             ('citrus fruit', 'dishes'): 21,\n",
       "             ('dishes', 'citrus fruit'): 21,\n",
       "             ('tropical fruit', 'whole milk'): 408,\n",
       "             ('whole milk', 'tropical fruit'): 408,\n",
       "             ('tropical fruit', 'butter'): 98,\n",
       "             ('butter', 'tropical fruit'): 98,\n",
       "             ('tropical fruit', 'curd'): 99,\n",
       "             ('curd', 'tropical fruit'): 99,\n",
       "             ('tropical fruit', 'flour'): 32,\n",
       "             ('flour', 'tropical fruit'): 32,\n",
       "             ('tropical fruit', 'dishes'): 18,\n",
       "             ('dishes', 'tropical fruit'): 18,\n",
       "             ('whole milk', 'curd'): 256,\n",
       "             ('curd', 'whole milk'): 256,\n",
       "             ('whole milk', 'flour'): 83,\n",
       "             ('flour', 'whole milk'): 83,\n",
       "             ('whole milk', 'bottled water'): 331,\n",
       "             ('bottled water', 'whole milk'): 331,\n",
       "             ('whole milk', 'dishes'): 52,\n",
       "             ('dishes', 'whole milk'): 52,\n",
       "             ('butter', 'curd'): 65,\n",
       "             ('curd', 'butter'): 65,\n",
       "             ('butter', 'flour'): 22,\n",
       "             ('flour', 'butter'): 22,\n",
       "             ('butter', 'bottled water'): 88,\n",
       "             ('bottled water', 'butter'): 88,\n",
       "             ('butter', 'dishes'): 15,\n",
       "             ('dishes', 'butter'): 15,\n",
       "             ('curd', 'yogurt'): 164,\n",
       "             ('yogurt', 'curd'): 164,\n",
       "             ('curd', 'flour'): 31,\n",
       "             ('flour', 'curd'): 31,\n",
       "             ('curd', 'bottled water'): 60,\n",
       "             ('bottled water', 'curd'): 60,\n",
       "             ('curd', 'dishes'): 7,\n",
       "             ('dishes', 'curd'): 7,\n",
       "             ('yogurt', 'flour'): 48,\n",
       "             ('flour', 'yogurt'): 48,\n",
       "             ('yogurt', 'bottled water'): 221,\n",
       "             ('bottled water', 'yogurt'): 221,\n",
       "             ('yogurt', 'dishes'): 37,\n",
       "             ('dishes', 'yogurt'): 37,\n",
       "             ('flour', 'bottled water'): 27,\n",
       "             ('bottled water', 'flour'): 27,\n",
       "             ('flour', 'dishes'): 4,\n",
       "             ('dishes', 'flour'): 4,\n",
       "             ('bottled water', 'dishes'): 21,\n",
       "             ('dishes', 'bottled water'): 21,\n",
       "             ('frankfurter', 'rolls/buns'): 171,\n",
       "             ('rolls/buns', 'frankfurter'): 171,\n",
       "             ('frankfurter', 'soda'): 107,\n",
       "             ('soda', 'frankfurter'): 107,\n",
       "             ('rolls/buns', 'soda'): 354,\n",
       "             ('soda', 'rolls/buns'): 354,\n",
       "             ('butter', 'sugar'): 31,\n",
       "             ('sugar', 'butter'): 31,\n",
       "             ('butter', 'fruit/vegetable juice'): 79,\n",
       "             ('fruit/vegetable juice', 'butter'): 79,\n",
       "             ('butter', 'newspapers'): 57,\n",
       "             ('newspapers', 'butter'): 57,\n",
       "             ('sugar', 'fruit/vegetable juice'): 47,\n",
       "             ('fruit/vegetable juice', 'sugar'): 47,\n",
       "             ('sugar', 'newspapers'): 31,\n",
       "             ('newspapers', 'sugar'): 31,\n",
       "             ('fruit/vegetable juice', 'newspapers'): 81,\n",
       "             ('newspapers', 'fruit/vegetable juice'): 81,\n",
       "             ('tropical fruit', 'cream cheese '): 71,\n",
       "             ('cream cheese ', 'tropical fruit'): 71,\n",
       "             ('tropical fruit', 'processed cheese'): 42,\n",
       "             ('processed cheese', 'tropical fruit'): 42,\n",
       "             ('tropical fruit', 'detergent'): 33,\n",
       "             ('detergent', 'tropical fruit'): 33,\n",
       "             ('tropical fruit', 'newspapers'): 114,\n",
       "             ('newspapers', 'tropical fruit'): 114,\n",
       "             ('cream cheese ', 'processed cheese'): 14,\n",
       "             ('processed cheese', 'cream cheese '): 14,\n",
       "             ('cream cheese ', 'detergent'): 9,\n",
       "             ('detergent', 'cream cheese '): 9,\n",
       "             ('cream cheese ', 'newspapers'): 32,\n",
       "             ('newspapers', 'cream cheese '): 32,\n",
       "             ('processed cheese', 'detergent'): 8,\n",
       "             ('detergent', 'processed cheese'): 8,\n",
       "             ('processed cheese', 'newspapers'): 11,\n",
       "             ('newspapers', 'processed cheese'): 11,\n",
       "             ('detergent', 'newspapers'): 19,\n",
       "             ('newspapers', 'detergent'): 19,\n",
       "             ('tropical fruit', 'root vegetables'): 207,\n",
       "             ('root vegetables', 'tropical fruit'): 207,\n",
       "             ('tropical fruit', 'frozen dessert'): 25,\n",
       "             ('frozen dessert', 'tropical fruit'): 25,\n",
       "             ('tropical fruit', 'rolls/buns'): 239,\n",
       "             ('rolls/buns', 'tropical fruit'): 239,\n",
       "             ('tropical fruit', 'sweet spreads'): 13,\n",
       "             ('sweet spreads', 'tropical fruit'): 13,\n",
       "             ('tropical fruit', 'salty snack'): 55,\n",
       "             ('salty snack', 'tropical fruit'): 55,\n",
       "             ('tropical fruit', 'waffles'): 60,\n",
       "             ('waffles', 'tropical fruit'): 60,\n",
       "             ('tropical fruit', 'candy'): 52,\n",
       "             ('candy', 'tropical fruit'): 52,\n",
       "             ('tropical fruit', 'bathroom cleaner'): 6,\n",
       "             ('bathroom cleaner', 'tropical fruit'): 6,\n",
       "             ('root vegetables', 'other vegetables'): 460,\n",
       "             ('other vegetables', 'root vegetables'): 460,\n",
       "             ('root vegetables', 'frozen dessert'): 24,\n",
       "             ('frozen dessert', 'root vegetables'): 24,\n",
       "             ('root vegetables', 'rolls/buns'): 238,\n",
       "             ('rolls/buns', 'root vegetables'): 238,\n",
       "             ('root vegetables', 'flour'): 46,\n",
       "             ('flour', 'root vegetables'): 46,\n",
       "             ('root vegetables', 'sweet spreads'): 20,\n",
       "             ('sweet spreads', 'root vegetables'): 20,\n",
       "             ('root vegetables', 'salty snack'): 49,\n",
       "             ('salty snack', 'root vegetables'): 49,\n",
       "             ('root vegetables', 'waffles'): 65,\n",
       "             ('waffles', 'root vegetables'): 65,\n",
       "             ('root vegetables', 'candy'): 42,\n",
       "             ('candy', 'root vegetables'): 42,\n",
       "             ('root vegetables', 'bathroom cleaner'): 8,\n",
       "             ('bathroom cleaner', 'root vegetables'): 8,\n",
       "             ('other vegetables', 'frozen dessert'): 36,\n",
       "             ('frozen dessert', 'other vegetables'): 36,\n",
       "             ('other vegetables', 'flour'): 62,\n",
       "             ('flour', 'other vegetables'): 62,\n",
       "             ('other vegetables', 'sweet spreads'): 23,\n",
       "             ('sweet spreads', 'other vegetables'): 23,\n",
       "             ('other vegetables', 'salty snack'): 105,\n",
       "             ('salty snack', 'other vegetables'): 105,\n",
       "             ('other vegetables', 'waffles'): 99,\n",
       "             ('waffles', 'other vegetables'): 99,\n",
       "             ('other vegetables', 'candy'): 68,\n",
       "             ('candy', 'other vegetables'): 68,\n",
       "             ('other vegetables', 'bathroom cleaner'): 10,\n",
       "             ('bathroom cleaner', 'other vegetables'): 10,\n",
       "             ('frozen dessert', 'rolls/buns'): 29,\n",
       "             ('rolls/buns', 'frozen dessert'): 29,\n",
       "             ('frozen dessert', 'flour'): 4,\n",
       "             ('flour', 'frozen dessert'): 4,\n",
       "             ('frozen dessert', 'sweet spreads'): 5,\n",
       "             ('sweet spreads', 'frozen dessert'): 5,\n",
       "             ('frozen dessert', 'salty snack'): 6,\n",
       "             ('salty snack', 'frozen dessert'): 6,\n",
       "             ('frozen dessert', 'waffles'): 5,\n",
       "             ('waffles', 'frozen dessert'): 5,\n",
       "             ('frozen dessert', 'candy'): 7,\n",
       "             ('candy', 'frozen dessert'): 7,\n",
       "             ('frozen dessert', 'bathroom cleaner'): 1,\n",
       "             ('bathroom cleaner', 'frozen dessert'): 1,\n",
       "             ('rolls/buns', 'flour'): 37,\n",
       "             ('flour', 'rolls/buns'): 37,\n",
       "             ('rolls/buns', 'sweet spreads'): 16,\n",
       "             ('sweet spreads', 'rolls/buns'): 16,\n",
       "             ('rolls/buns', 'salty snack'): 49,\n",
       "             ('salty snack', 'rolls/buns'): 49,\n",
       "             ('rolls/buns', 'waffles'): 89,\n",
       "             ('waffles', 'rolls/buns'): 89,\n",
       "             ('rolls/buns', 'candy'): 69,\n",
       "             ('candy', 'rolls/buns'): 69,\n",
       "             ('rolls/buns', 'bathroom cleaner'): 6,\n",
       "             ('bathroom cleaner', 'rolls/buns'): 6,\n",
       "             ('flour', 'sweet spreads'): 3,\n",
       "             ('sweet spreads', 'flour'): 3,\n",
       "             ('flour', 'salty snack'): 17,\n",
       "             ('salty snack', 'flour'): 17,\n",
       "             ('flour', 'waffles'): 11,\n",
       "             ('waffles', 'flour'): 11,\n",
       "             ('flour', 'candy'): 7,\n",
       "             ('candy', 'flour'): 7,\n",
       "             ('flour', 'bathroom cleaner'): 1,\n",
       "             ('bathroom cleaner', 'flour'): 1,\n",
       "             ('sweet spreads', 'salty snack'): 7,\n",
       "             ('salty snack', 'sweet spreads'): 7,\n",
       "             ('sweet spreads', 'waffles'): 7,\n",
       "             ('waffles', 'sweet spreads'): 7,\n",
       "             ('sweet spreads', 'candy'): 3,\n",
       "             ('candy', 'sweet spreads'): 3,\n",
       "             ('sweet spreads', 'bathroom cleaner'): 1,\n",
       "             ('bathroom cleaner', 'sweet spreads'): 1,\n",
       "             ('salty snack', 'waffles'): 38,\n",
       "             ('waffles', 'salty snack'): 38,\n",
       "             ('salty snack', 'candy'): 24,\n",
       "             ('candy', 'salty snack'): 24,\n",
       "             ('salty snack', 'bathroom cleaner'): 1,\n",
       "             ('bathroom cleaner', 'salty snack'): 1,\n",
       "             ('waffles', 'candy'): 28,\n",
       "             ('candy', 'waffles'): 28,\n",
       "             ('waffles', 'bathroom cleaner'): 3,\n",
       "             ('bathroom cleaner', 'waffles'): 3,\n",
       "             ('candy', 'bathroom cleaner'): 2,\n",
       "             ('bathroom cleaner', 'candy'): 2,\n",
       "             ('sausage', 'rolls/buns'): 289,\n",
       "             ('rolls/buns', 'sausage'): 289,\n",
       "             ('sausage', 'soda'): 235,\n",
       "             ('soda', 'sausage'): 235,\n",
       "             ('sausage', 'chocolate'): 64,\n",
       "             ('chocolate', 'sausage'): 64,\n",
       "             ('rolls/buns', 'chocolate'): 116,\n",
       "             ('chocolate', 'rolls/buns'): 116,\n",
       "             ('soda', 'chocolate'): 127,\n",
       "             ('chocolate', 'soda'): 127,\n",
       "             ('brown bread', 'soda'): 123,\n",
       "             ('soda', 'brown bread'): 123,\n",
       "             ('brown bread', 'fruit/vegetable juice'): 82,\n",
       "             ('fruit/vegetable juice', 'brown bread'): 82,\n",
       "             ('brown bread', 'canned beer'): 46,\n",
       "             ('canned beer', 'brown bread'): 46,\n",
       "             ('brown bread', 'newspapers'): 75,\n",
       "             ('newspapers', 'brown bread'): 75,\n",
       "             ('brown bread', 'shopping bags'): 91,\n",
       "             ('shopping bags', 'brown bread'): 91,\n",
       "             ('soda', 'fruit/vegetable juice'): 175,\n",
       "             ('fruit/vegetable juice', 'soda'): 175,\n",
       "             ('soda', 'canned beer'): 121,\n",
       "             ('canned beer', 'soda'): 121,\n",
       "             ('soda', 'newspapers'): 143,\n",
       "             ('newspapers', 'soda'): 143,\n",
       "             ('soda', 'shopping bags'): 240,\n",
       "             ('shopping bags', 'soda'): 240,\n",
       "             ('fruit/vegetable juice', 'canned beer'): 39,\n",
       "             ('canned beer', 'fruit/vegetable juice'): 39,\n",
       "             ('fruit/vegetable juice', 'shopping bags'): 105,\n",
       "             ('shopping bags', 'fruit/vegetable juice'): 105,\n",
       "             ('canned beer', 'newspapers'): 41,\n",
       "             ('newspapers', 'canned beer'): 41,\n",
       "             ('canned beer', 'shopping bags'): 101,\n",
       "             ('shopping bags', 'canned beer'): 101,\n",
       "             ('newspapers', 'shopping bags'): 68,\n",
       "             ('shopping bags', 'newspapers'): 68,\n",
       "             ('yogurt', 'beverages'): 53,\n",
       "             ('beverages', 'yogurt'): 53,\n",
       "             ('yogurt', 'specialty bar'): 41,\n",
       "             ('specialty bar', 'yogurt'): 41,\n",
       "             ('beverages', 'bottled water'): 30,\n",
       "             ('bottled water', 'beverages'): 30,\n",
       "             ('beverages', 'specialty bar'): 9,\n",
       "             ('specialty bar', 'beverages'): 9,\n",
       "             ('bottled water', 'specialty bar'): 27,\n",
       "             ('specialty bar', 'bottled water'): 27,\n",
       "             ('hamburger meat', 'other vegetables'): 134,\n",
       "             ('other vegetables', 'hamburger meat'): 134,\n",
       "             ('hamburger meat', 'rolls/buns'): 84,\n",
       "             ('rolls/buns', 'hamburger meat'): 84,\n",
       "             ('hamburger meat', 'spices'): 5,\n",
       "             ('spices', 'hamburger meat'): 5,\n",
       "             ('hamburger meat', 'bottled water'): 29,\n",
       "             ('bottled water', 'hamburger meat'): 29,\n",
       "             ('hamburger meat', 'hygiene articles'): 25,\n",
       "             ('hygiene articles', 'hamburger meat'): 25,\n",
       "             ('hamburger meat', 'napkins'): 26,\n",
       "             ('napkins', 'hamburger meat'): 26,\n",
       "             ('other vegetables', 'spices'): 19,\n",
       "             ('spices', 'other vegetables'): 19,\n",
       "             ('other vegetables', 'hygiene articles'): 94,\n",
       "             ('hygiene articles', 'other vegetables'): 94,\n",
       "             ('other vegetables', 'napkins'): 141,\n",
       "             ('napkins', 'other vegetables'): 141,\n",
       "             ('rolls/buns', 'spices'): 10,\n",
       "             ('spices', 'rolls/buns'): 10,\n",
       "             ('rolls/buns', 'bottled water'): 233,\n",
       "             ('bottled water', 'rolls/buns'): 233,\n",
       "             ('rolls/buns', 'hygiene articles'): 58,\n",
       "             ('hygiene articles', 'rolls/buns'): 58,\n",
       "             ('rolls/buns', 'napkins'): 115,\n",
       "             ('napkins', 'rolls/buns'): 115,\n",
       "             ('spices', 'bottled water'): 7,\n",
       "             ('bottled water', 'spices'): 7,\n",
       "             ('spices', 'hygiene articles'): 4,\n",
       "             ('hygiene articles', 'spices'): 4,\n",
       "             ('spices', 'napkins'): 4,\n",
       "             ('napkins', 'spices'): 4,\n",
       "             ('bottled water', 'hygiene articles'): 56,\n",
       "             ('hygiene articles', 'bottled water'): 56,\n",
       "             ('bottled water', 'napkins'): 83,\n",
       "             ('napkins', 'bottled water'): 83,\n",
       "             ('hygiene articles', 'napkins'): 59,\n",
       "             ('napkins', 'hygiene articles'): 59,\n",
       "             ('root vegetables', 'whole milk'): 478,\n",
       "             ('whole milk', 'root vegetables'): 478,\n",
       "             ('root vegetables', 'beverages'): 31,\n",
       "             ('beverages', 'root vegetables'): 31,\n",
       "             ('root vegetables', 'sugar'): 63,\n",
       "             ('sugar', 'root vegetables'): 63,\n",
       "             ('other vegetables', 'beverages'): 51,\n",
       "             ('beverages', 'other vegetables'): 51,\n",
       "             ('other vegetables', 'sugar'): 105,\n",
       "             ('sugar', 'other vegetables'): 105,\n",
       "             ('whole milk', 'beverages'): 63,\n",
       "             ('beverages', 'whole milk'): 63,\n",
       "             ('whole milk', 'sugar'): 147,\n",
       "             ('sugar', 'whole milk'): 147,\n",
       "             ('beverages', 'sugar'): 9,\n",
       "             ('sugar', 'beverages'): 9,\n",
       "             ('pork', 'berries'): 32,\n",
       "             ('berries', 'pork'): 32,\n",
       "             ('pork', 'other vegetables'): 208,\n",
       "             ('other vegetables', 'pork'): 208,\n",
       "             ('pork', 'whole milk'): 215,\n",
       "             ('whole milk', 'pork'): 215,\n",
       "             ('pork', 'whipped/sour cream'): 81,\n",
       "             ('whipped/sour cream', 'pork'): 81,\n",
       "             ('pork', 'artif. sweetener'): 6,\n",
       "             ('artif. sweetener', 'pork'): 6,\n",
       "             ('pork', 'soda'): 116,\n",
       "             ('soda', 'pork'): 116,\n",
       "             ('pork', 'abrasive cleaner'): 5,\n",
       "             ('abrasive cleaner', 'pork'): 5,\n",
       "             ('berries', 'other vegetables'): 100,\n",
       "             ('other vegetables', 'berries'): 100,\n",
       "             ('berries', 'whole milk'): 115,\n",
       "             ('whole milk', 'berries'): 115,\n",
       "             ('berries', 'whipped/sour cream'): 86,\n",
       "             ('whipped/sour cream', 'berries'): 86,\n",
       "             ('berries', 'artif. sweetener'): 2,\n",
       "             ('artif. sweetener', 'berries'): 2,\n",
       "             ('berries', 'soda'): 70,\n",
       "             ('soda', 'berries'): 70,\n",
       "             ('berries', 'abrasive cleaner'): 6,\n",
       "             ('abrasive cleaner', 'berries'): 6,\n",
       "             ('other vegetables', 'whipped/sour cream'): 281,\n",
       "             ('whipped/sour cream', 'other vegetables'): 281,\n",
       "             ('other vegetables', 'artif. sweetener'): 10,\n",
       "             ('artif. sweetener', 'other vegetables'): 10,\n",
       "             ('other vegetables', 'soda'): 321,\n",
       "             ('soda', 'other vegetables'): 321,\n",
       "             ('other vegetables', 'abrasive cleaner'): 16,\n",
       "             ('abrasive cleaner', 'other vegetables'): 16,\n",
       "             ('whole milk', 'whipped/sour cream'): 310,\n",
       "             ('whipped/sour cream', 'whole milk'): 310,\n",
       "             ('whole milk', 'artif. sweetener'): 10,\n",
       "             ('artif. sweetener', 'whole milk'): 10,\n",
       "             ('whole milk', 'soda'): 388,\n",
       "             ('soda', 'whole milk'): 388,\n",
       "             ('whipped/sour cream', 'artif. sweetener'): 1,\n",
       "             ('artif. sweetener', 'whipped/sour cream'): 1,\n",
       "             ('whipped/sour cream', 'soda'): 113,\n",
       "             ('soda', 'whipped/sour cream'): 113,\n",
       "             ('whipped/sour cream', 'abrasive cleaner'): 8,\n",
       "             ('abrasive cleaner', 'whipped/sour cream'): 8,\n",
       "             ('artif. sweetener', 'soda'): 6,\n",
       "             ('soda', 'artif. sweetener'): 6,\n",
       "             ('artif. sweetener', 'abrasive cleaner'): 1,\n",
       "             ('abrasive cleaner', 'artif. sweetener'): 1,\n",
       "             ('soda', 'abrasive cleaner'): 6,\n",
       "             ('abrasive cleaner', 'soda'): 6,\n",
       "             ('beef', 'grapes'): 25,\n",
       "             ('grapes', 'beef'): 25,\n",
       "             ('beef', 'detergent'): 19,\n",
       "             ('detergent', 'beef'): 19,\n",
       "             ('grapes', 'detergent'): 11,\n",
       "             ('detergent', 'grapes'): 11,\n",
       "             ('root vegetables', 'dessert'): 57,\n",
       "             ('dessert', 'root vegetables'): 57,\n",
       "             ('other vegetables', 'dessert'): 114,\n",
       "             ('dessert', 'other vegetables'): 114,\n",
       "             ('whole milk', 'dessert'): 130,\n",
       "             ('dessert', 'whole milk'): 130,\n",
       "             ('citrus fruit', 'zwieback'): 8,\n",
       "             ('zwieback', 'citrus fruit'): 8,\n",
       "             ('citrus fruit', 'newspapers'): 80,\n",
       "             ('newspapers', 'citrus fruit'): 80,\n",
       "             ('zwieback', 'newspapers'): 8,\n",
       "             ('newspapers', 'zwieback'): 8,\n",
       "             ('sausage', 'canned beer'): 62,\n",
       "             ('canned beer', 'sausage'): 62,\n",
       "             ('sausage', 'specialty bar'): 22,\n",
       "             ('specialty bar', 'sausage'): 22,\n",
       "             ('sausage', 'shopping bags'): 154,\n",
       "             ('shopping bags', 'sausage'): 154,\n",
       "             ('rolls/buns', 'canned beer'): 97,\n",
       "             ('canned beer', 'rolls/buns'): 97,\n",
       "             ('rolls/buns', 'specialty bar'): 54,\n",
       "             ('specialty bar', 'rolls/buns'): 54,\n",
       "             ('rolls/buns', 'shopping bags'): 189,\n",
       "             ('shopping bags', 'rolls/buns'): 189,\n",
       "             ('soda', 'specialty bar'): 64,\n",
       "             ('specialty bar', 'soda'): 64,\n",
       "             ('canned beer', 'specialty bar'): 9,\n",
       "             ('specialty bar', 'canned beer'): 9,\n",
       "             ('specialty bar', 'shopping bags'): 34,\n",
       "             ('shopping bags', 'specialty bar'): 34,\n",
       "             ('tropical fruit', 'domestic eggs'): 112,\n",
       "             ('domestic eggs', 'tropical fruit'): 112,\n",
       "             ('tropical fruit', 'brown bread'): 104,\n",
       "             ('brown bread', 'tropical fruit'): 104,\n",
       "             ('tropical fruit', 'pastry'): 130,\n",
       "             ('pastry', 'tropical fruit'): 130,\n",
       "             ('tropical fruit', 'sugar'): 47,\n",
       "             ('sugar', 'tropical fruit'): 47,\n",
       "             ('tropical fruit', 'cereals'): 10,\n",
       "             ('cereals', 'tropical fruit'): 10,\n",
       "             ('tropical fruit', 'soda'): 203,\n",
       "             ('soda', 'tropical fruit'): 203,\n",
       "             ('root vegetables', 'yogurt'): 253,\n",
       "             ('yogurt', 'root vegetables'): 253,\n",
       "             ('root vegetables', 'domestic eggs'): 139,\n",
       "             ('domestic eggs', 'root vegetables'): 139,\n",
       "             ('root vegetables', 'brown bread'): 99,\n",
       "             ('brown bread', 'root vegetables'): 99,\n",
       "             ('root vegetables', 'pastry'): 107,\n",
       "             ('pastry', 'root vegetables'): 107,\n",
       "             ('root vegetables', 'cereals'): 13,\n",
       "             ('cereals', 'root vegetables'): 13,\n",
       "             ('root vegetables', 'coffee'): 72,\n",
       "             ('coffee', 'root vegetables'): 72,\n",
       "             ('root vegetables', 'soda'): 183,\n",
       "             ('soda', 'root vegetables'): 183,\n",
       "             ('whole milk', 'domestic eggs'): 292,\n",
       "             ('domestic eggs', 'whole milk'): 292,\n",
       "             ('whole milk', 'brown bread'): 241,\n",
       "             ('brown bread', 'whole milk'): 241,\n",
       "             ('whole milk', 'pastry'): 315,\n",
       "             ('pastry', 'whole milk'): 315,\n",
       "             ('whole milk', 'cereals'): 33,\n",
       "             ('cereals', 'whole milk'): 33,\n",
       "             ('whole milk', 'coffee'): 180,\n",
       "             ('coffee', 'whole milk'): 180,\n",
       "             ('whole milk', 'waffles'): 124,\n",
       "             ('waffles', 'whole milk'): 124,\n",
       "             ('whole milk', 'candy'): 81,\n",
       "             ('candy', 'whole milk'): 81,\n",
       "             ('yogurt', 'domestic eggs'): 140,\n",
       "             ('domestic eggs', 'yogurt'): 140,\n",
       "             ('yogurt', 'brown bread'): 142,\n",
       "             ('brown bread', 'yogurt'): 142,\n",
       "             ('yogurt', 'pastry'): 171,\n",
       "             ('pastry', 'yogurt'): 171,\n",
       "             ('yogurt', 'sugar'): 68,\n",
       "             ('sugar', 'yogurt'): 68,\n",
       "             ('yogurt', 'cereals'): 21,\n",
       "             ('cereals', 'yogurt'): 21,\n",
       "             ('yogurt', 'soda'): 266,\n",
       "             ('soda', 'yogurt'): 266,\n",
       "             ('yogurt', 'waffles'): 73,\n",
       "             ('waffles', 'yogurt'): 73,\n",
       "             ('yogurt', 'candy'): 54,\n",
       "             ('candy', 'yogurt'): 54,\n",
       "             ('domestic eggs', 'brown bread'): 67,\n",
       "             ('brown bread', 'domestic eggs'): 67,\n",
       "             ('domestic eggs', 'pastry'): 88,\n",
       "             ('pastry', 'domestic eggs'): 88,\n",
       "             ('domestic eggs', 'sugar'): 49,\n",
       "             ('sugar', 'domestic eggs'): 49,\n",
       "             ('domestic eggs', 'cereals'): 10,\n",
       "             ('cereals', 'domestic eggs'): 10,\n",
       "             ('domestic eggs', 'coffee'): 49,\n",
       "             ('coffee', 'domestic eggs'): 49,\n",
       "             ('domestic eggs', 'soda'): 121,\n",
       "             ('soda', 'domestic eggs'): 121,\n",
       "             ('domestic eggs', 'waffles'): 32,\n",
       "             ('waffles', 'domestic eggs'): 32,\n",
       "             ('domestic eggs', 'candy'): 25,\n",
       "             ('candy', 'domestic eggs'): 25,\n",
       "             ('brown bread', 'pastry'): 95,\n",
       "             ('pastry', 'brown bread'): 95,\n",
       "             ('brown bread', 'sugar'): 33,\n",
       "             ('sugar', 'brown bread'): 33,\n",
       "             ('brown bread', 'cereals'): 7,\n",
       "             ('cereals', 'brown bread'): 7,\n",
       "             ('brown bread', 'coffee'): 37,\n",
       "             ('coffee', 'brown bread'): 37,\n",
       "             ('brown bread', 'waffles'): 23,\n",
       "             ('waffles', 'brown bread'): 23,\n",
       "             ('brown bread', 'candy'): 22,\n",
       "             ('candy', 'brown bread'): 22,\n",
       "             ('pastry', 'sugar'): 51,\n",
       "             ('sugar', 'pastry'): 51,\n",
       "             ('pastry', 'cereals'): 10,\n",
       "             ('cereals', 'pastry'): 10,\n",
       "             ('pastry', 'coffee'): 67,\n",
       "             ('coffee', 'pastry'): 67,\n",
       "             ('pastry', 'soda'): 180,\n",
       "             ('soda', 'pastry'): 180,\n",
       "             ('pastry', 'waffles'): 69,\n",
       "             ('waffles', 'pastry'): 69,\n",
       "             ('pastry', 'candy'): 36,\n",
       "             ('candy', 'pastry'): 36,\n",
       "             ('sugar', 'cereals'): 7,\n",
       "             ('cereals', 'sugar'): 7,\n",
       "             ('sugar', 'coffee'): 46,\n",
       "             ('coffee', 'sugar'): 46,\n",
       "             ('sugar', 'soda'): 72,\n",
       "             ('soda', 'sugar'): 72,\n",
       "             ('sugar', 'waffles'): 17,\n",
       "             ('waffles', 'sugar'): 17,\n",
       "             ('sugar', 'candy'): 16,\n",
       "             ('candy', 'sugar'): 16,\n",
       "             ('cereals', 'coffee'): 4,\n",
       "             ('coffee', 'cereals'): 4,\n",
       "             ('cereals', 'soda'): 10,\n",
       "             ('soda', 'cereals'): 10,\n",
       "             ('cereals', 'waffles'): 6,\n",
       "             ('waffles', 'cereals'): 6,\n",
       "             ('cereals', 'candy'): 2,\n",
       "             ('candy', 'cereals'): 2,\n",
       "             ('coffee', 'soda'): 93,\n",
       "             ('soda', 'coffee'): 93,\n",
       "             ('coffee', 'waffles'): 30,\n",
       "             ('waffles', 'coffee'): 30,\n",
       "             ('coffee', 'candy'): 27,\n",
       "             ('candy', 'coffee'): 27,\n",
       "             ('soda', 'waffles'): 91,\n",
       "             ('waffles', 'soda'): 91,\n",
       "             ('soda', 'candy'): 82,\n",
       "             ('candy', 'soda'): 82,\n",
       "             ('butter milk', 'yogurt'): 81,\n",
       "             ('yogurt', 'butter milk'): 81,\n",
       "             ('butter milk', 'cream cheese '): 32,\n",
       "             ('cream cheese ', 'butter milk'): 32,\n",
       "             ('butter milk', 'spread cheese'): 6,\n",
       "             ('spread cheese', 'butter milk'): 6,\n",
       "             ('butter milk', 'rolls/buns'): 74,\n",
       "             ('rolls/buns', 'butter milk'): 74,\n",
       "             ('butter milk', 'bottled water'): 37,\n",
       "             ('bottled water', 'butter milk'): 37,\n",
       "             ('butter milk', 'soda'): 45,\n",
       "             ('soda', 'butter milk'): 45,\n",
       "             ('butter milk', 'newspapers'): 22,\n",
       "             ('newspapers', 'butter milk'): 22,\n",
       "             ('yogurt', 'spread cheese'): 35,\n",
       "             ('spread cheese', 'yogurt'): 35,\n",
       "             ('yogurt', 'rolls/buns'): 328,\n",
       "             ('rolls/buns', 'yogurt'): 328,\n",
       "             ('yogurt', 'newspapers'): 149,\n",
       "             ('newspapers', 'yogurt'): 149,\n",
       "             ('cream cheese ', 'spread cheese'): 10,\n",
       "             ('spread cheese', 'cream cheese '): 10,\n",
       "             ('cream cheese ', 'rolls/buns'): 95,\n",
       "             ('rolls/buns', 'cream cheese '): 95,\n",
       "             ('cream cheese ', 'bottled water'): 58,\n",
       "             ('bottled water', 'cream cheese '): 58,\n",
       "             ('cream cheese ', 'soda'): 66,\n",
       "             ('soda', 'cream cheese '): 66,\n",
       "             ('spread cheese', 'rolls/buns'): 39,\n",
       "             ('rolls/buns', 'spread cheese'): 39,\n",
       "             ('spread cheese', 'bottled water'): 22,\n",
       "             ('bottled water', 'spread cheese'): 22,\n",
       "             ('spread cheese', 'soda'): 30,\n",
       "             ('soda', 'spread cheese'): 30,\n",
       "             ('spread cheese', 'newspapers'): 16,\n",
       "             ('newspapers', 'spread cheese'): 16,\n",
       "             ('rolls/buns', 'newspapers'): 186,\n",
       "             ('newspapers', 'rolls/buns'): 186,\n",
       "             ('bottled water', 'soda'): 268,\n",
       "             ('soda', 'bottled water'): 268,\n",
       "             ('bottled water', 'newspapers'): 109,\n",
       "             ('newspapers', 'bottled water'): 109,\n",
       "             ('root vegetables', 'butter'): 127,\n",
       "             ('butter', 'root vegetables'): 127,\n",
       "             ('root vegetables', 'curd'): 107,\n",
       "             ('curd', 'root vegetables'): 107,\n",
       "             ('root vegetables', 'whipped/sour cream'): 166,\n",
       "             ('whipped/sour cream', 'root vegetables'): 166,\n",
       "             ('root vegetables', 'UHT-milk'): 48,\n",
       "             ('UHT-milk', 'root vegetables'): 48,\n",
       "             ('root vegetables', 'hard cheese'): 55,\n",
       "             ('hard cheese', 'root vegetables'): 55,\n",
       "             ('root vegetables', 'bottled water'): 154,\n",
       "             ('bottled water', 'root vegetables'): 154,\n",
       "             ('root vegetables', 'long life bakery product'): 52,\n",
       "             ('long life bakery product', 'root vegetables'): 52,\n",
       "             ('other vegetables', 'butter'): 196,\n",
       "             ('butter', 'other vegetables'): 196,\n",
       "             ('other vegetables', 'curd'): 168,\n",
       "             ('curd', 'other vegetables'): 168,\n",
       "             ('other vegetables', 'hard cheese'): 93,\n",
       "             ('hard cheese', 'other vegetables'): 93,\n",
       "             ('butter', 'whipped/sour cream'): 100,\n",
       "             ('whipped/sour cream', 'butter'): 100,\n",
       "             ('butter', 'UHT-milk'): 23,\n",
       "             ('UHT-milk', 'butter'): 23,\n",
       "             ('butter', 'hard cheese'): 39,\n",
       "             ('hard cheese', 'butter'): 39,\n",
       "             ('butter', 'rolls/buns'): 132,\n",
       "             ('rolls/buns', 'butter'): 132,\n",
       "             ('butter', 'long life bakery product'): 43,\n",
       "             ('long life bakery product', 'butter'): 43,\n",
       "             ('curd', 'whipped/sour cream'): 102,\n",
       "             ('whipped/sour cream', 'curd'): 102,\n",
       "             ('curd', 'UHT-milk'): 23,\n",
       "             ('UHT-milk', 'curd'): 23,\n",
       "             ('curd', 'hard cheese'): 21,\n",
       "             ('hard cheese', 'curd'): 21,\n",
       "             ('curd', 'rolls/buns'): 97,\n",
       "             ('rolls/buns', 'curd'): 97,\n",
       "             ('curd', 'long life bakery product'): 32,\n",
       "             ('long life bakery product', 'curd'): 32,\n",
       "             ('whipped/sour cream', 'UHT-milk'): 30,\n",
       "             ('UHT-milk', 'whipped/sour cream'): 30,\n",
       "             ('whipped/sour cream', 'hard cheese'): 44,\n",
       "             ('hard cheese', 'whipped/sour cream'): 44,\n",
       "             ('whipped/sour cream', 'rolls/buns'): 142,\n",
       "             ('rolls/buns', 'whipped/sour cream'): 142,\n",
       "             ('whipped/sour cream', 'bottled water'): 86,\n",
       "             ('bottled water', 'whipped/sour cream'): 86,\n",
       "             ('whipped/sour cream', 'long life bakery product'): 57,\n",
       "             ('long life bakery product', 'whipped/sour cream'): 57,\n",
       "             ('UHT-milk', 'hard cheese'): 11,\n",
       "             ('hard cheese', 'UHT-milk'): 11,\n",
       "             ('UHT-milk', 'bottled water'): 69,\n",
       "             ('bottled water', 'UHT-milk'): 69,\n",
       "             ('UHT-milk', 'long life bakery product'): 12,\n",
       "             ('long life bakery product', 'UHT-milk'): 12,\n",
       "             ('hard cheese', 'rolls/buns'): 58,\n",
       "             ('rolls/buns', 'hard cheese'): 58,\n",
       "             ('hard cheese', 'bottled water'): 35,\n",
       "             ('bottled water', 'hard cheese'): 35,\n",
       "             ('hard cheese', 'long life bakery product'): 19,\n",
       "             ('long life bakery product', 'hard cheese'): 19,\n",
       "             ('rolls/buns', 'long life bakery product'): 77,\n",
       "             ('long life bakery product', 'rolls/buns'): 77,\n",
       "             ('bottled water', 'long life bakery product'): 40,\n",
       "             ('long life bakery product', 'bottled water'): 40,\n",
       "             ('sausage', 'cat food'): 35,\n",
       "             ('cat food', 'sausage'): 35,\n",
       "             ('sausage', 'newspapers'): 77,\n",
       "             ('newspapers', 'sausage'): 77,\n",
       "             ('rolls/buns', 'cat food'): 39,\n",
       "             ('cat food', 'rolls/buns'): 39,\n",
       "             ('cat food', 'newspapers'): 27,\n",
       "             ('newspapers', 'cat food'): 27,\n",
       "             ('ham', 'grapes'): 13,\n",
       "             ('grapes', 'ham'): 13,\n",
       "             ('ham', 'other vegetables'): 89,\n",
       "             ('other vegetables', 'ham'): 89,\n",
       "             ('ham', 'whole milk'): 113,\n",
       "             ('whole milk', 'ham'): 113,\n",
       "             ('grapes', 'other vegetables'): 89,\n",
       "             ('other vegetables', 'grapes'): 89,\n",
       "             ('grapes', 'whole milk'): 72,\n",
       "             ('whole milk', 'grapes'): 72,\n",
       "             ('turkey', 'tropical fruit'): 26,\n",
       "             ('tropical fruit', 'turkey'): 26,\n",
       "             ('turkey', 'other vegetables'): 39,\n",
       "             ('other vegetables', 'turkey'): 39,\n",
       "             ('turkey', 'curd'): 15,\n",
       "             ('curd', 'turkey'): 15,\n",
       "             ('turkey', 'domestic eggs'): 7,\n",
       "             ('domestic eggs', 'turkey'): 7,\n",
       "             ('turkey', 'brown bread'): 13,\n",
       "             ('brown bread', 'turkey'): 13,\n",
       "             ('turkey', 'semi-finished bread'): 9,\n",
       "             ('semi-finished bread', 'turkey'): 9,\n",
       "             ('turkey', 'margarine'): 9,\n",
       "             ('margarine', 'turkey'): 9,\n",
       "             ('turkey', 'baking powder'): 7,\n",
       "             ('baking powder', 'turkey'): 7,\n",
       "             ('turkey', 'fruit/vegetable juice'): 15,\n",
       "             ('fruit/vegetable juice', 'turkey'): 15,\n",
       "             ('tropical fruit', 'semi-finished bread'): 42,\n",
       "             ('semi-finished bread', 'tropical fruit'): 42,\n",
       "             ('tropical fruit', 'margarine'): 91,\n",
       "             ('margarine', 'tropical fruit'): 91,\n",
       "             ('tropical fruit', 'baking powder'): 37,\n",
       "             ('baking powder', 'tropical fruit'): 37,\n",
       "             ('tropical fruit', 'fruit/vegetable juice'): 135,\n",
       "             ('fruit/vegetable juice', 'tropical fruit'): 135,\n",
       "             ('other vegetables', 'domestic eggs'): 217,\n",
       "             ('domestic eggs', 'other vegetables'): 217,\n",
       "             ('other vegetables', 'brown bread'): 183,\n",
       "             ('brown bread', 'other vegetables'): 183,\n",
       "             ('other vegetables', 'semi-finished bread'): 50,\n",
       "             ('semi-finished bread', 'other vegetables'): 50,\n",
       "             ('other vegetables', 'margarine'): 192,\n",
       "             ('margarine', 'other vegetables'): 192,\n",
       "             ('other vegetables', 'baking powder'): 72,\n",
       "             ('baking powder', 'other vegetables'): 72,\n",
       "             ('other vegetables', 'fruit/vegetable juice'): 207,\n",
       "             ('fruit/vegetable juice', 'other vegetables'): 207,\n",
       "             ('curd', 'domestic eggs'): 64,\n",
       "             ('domestic eggs', 'curd'): 64,\n",
       "             ('curd', 'brown bread'): 48,\n",
       "             ('brown bread', 'curd'): 48,\n",
       "             ('curd', 'semi-finished bread'): 20,\n",
       "             ('semi-finished bread', 'curd'): 20,\n",
       "             ('curd', 'margarine'): 62,\n",
       "             ('margarine', 'curd'): 62,\n",
       "             ('curd', 'baking powder'): 18,\n",
       "             ('baking powder', 'curd'): 18,\n",
       "             ('curd', 'fruit/vegetable juice'): 48,\n",
       "             ('fruit/vegetable juice', 'curd'): 48,\n",
       "             ('domestic eggs', 'semi-finished bread'): 17,\n",
       "             ('semi-finished bread', 'domestic eggs'): 17,\n",
       "             ('domestic eggs', 'margarine'): 82,\n",
       "             ('margarine', 'domestic eggs'): 82,\n",
       "             ('domestic eggs', 'baking powder'): 31,\n",
       "             ('baking powder', 'domestic eggs'): 31,\n",
       "             ('domestic eggs', 'fruit/vegetable juice'): 79,\n",
       "             ('fruit/vegetable juice', 'domestic eggs'): 79,\n",
       "             ('brown bread', 'semi-finished bread'): 17,\n",
       "             ('semi-finished bread', 'brown bread'): 17,\n",
       "             ('brown bread', 'margarine'): 63,\n",
       "             ('margarine', 'brown bread'): 63,\n",
       "             ('brown bread', 'baking powder'): 10,\n",
       "             ('baking powder', 'brown bread'): 10,\n",
       "             ('semi-finished bread', 'baking powder'): 9,\n",
       "             ('baking powder', 'semi-finished bread'): 9,\n",
       "             ('semi-finished bread', 'fruit/vegetable juice'): 24,\n",
       "             ('fruit/vegetable juice', 'semi-finished bread'): 24,\n",
       "             ('margarine', 'baking powder'): 30,\n",
       "             ('baking powder', 'margarine'): 30,\n",
       "             ('margarine', 'fruit/vegetable juice'): 60,\n",
       "             ('fruit/vegetable juice', 'margarine'): 60,\n",
       "             ('baking powder', 'fruit/vegetable juice'): 22,\n",
       "             ('fruit/vegetable juice', 'baking powder'): 22,\n",
       "             ('whole milk', 'processed cheese'): 69,\n",
       "             ('processed cheese', 'whole milk'): 69,\n",
       "             ('whole milk', 'pickled vegetables'): 69,\n",
       "             ('pickled vegetables', 'whole milk'): 69,\n",
       "             ('yogurt', 'processed cheese'): 26,\n",
       "             ('processed cheese', 'yogurt'): 26,\n",
       "             ('yogurt', 'pickled vegetables'): 37,\n",
       "             ('pickled vegetables', 'yogurt'): 37,\n",
       "             ('processed cheese', 'pickled vegetables'): 11,\n",
       "             ('pickled vegetables', 'processed cheese'): 11,\n",
       "             ('processed cheese', 'soda'): 51,\n",
       "             ('soda', 'processed cheese'): 51,\n",
       "             ('pickled vegetables', 'soda'): 40,\n",
       "             ('soda', 'pickled vegetables'): 40,\n",
       "             ('curd', 'pastry'): 74,\n",
       "             ('pastry', 'curd'): 74,\n",
       "             ('packaged fruit/vegetables', 'brown bread'): 16,\n",
       "             ('brown bread', 'packaged fruit/vegetables'): 16,\n",
       "             ('packaged fruit/vegetables', 'canned beer'): 6,\n",
       "             ('canned beer', 'packaged fruit/vegetables'): 6,\n",
       "             ('rolls/buns', 'oil'): 49,\n",
       "             ('oil', 'rolls/buns'): 49,\n",
       "             ('rolls/buns', 'chewing gum'): 36,\n",
       "             ('chewing gum', 'rolls/buns'): 36,\n",
       "             ('rolls/buns', 'chocolate marshmallow'): 22,\n",
       "             ('chocolate marshmallow', 'rolls/buns'): 22,\n",
       "             ('oil', 'bottled water'): 41,\n",
       "             ('bottled water', 'oil'): 41,\n",
       "             ('oil', 'chewing gum'): 5,\n",
       "             ('chewing gum', 'oil'): 5,\n",
       "             ('oil', 'chocolate marshmallow'): 5,\n",
       "             ('chocolate marshmallow', 'oil'): 5,\n",
       "             ('oil', 'hygiene articles'): 25,\n",
       "             ('hygiene articles', 'oil'): 25,\n",
       "             ('oil', 'napkins'): 24,\n",
       "             ('napkins', 'oil'): 24,\n",
       "             ('bottled water', 'chewing gum'): 27,\n",
       "             ('chewing gum', 'bottled water'): 27,\n",
       "             ('bottled water', 'chocolate marshmallow'): 12,\n",
       "             ('chocolate marshmallow', 'bottled water'): 12,\n",
       "             ('chewing gum', 'chocolate marshmallow'): 5,\n",
       "             ('chocolate marshmallow', 'chewing gum'): 5,\n",
       "             ('chewing gum', 'hygiene articles'): 11,\n",
       "             ('hygiene articles', 'chewing gum'): 11,\n",
       "             ('chewing gum', 'napkins'): 19,\n",
       "             ('napkins', 'chewing gum'): 19,\n",
       "             ('chocolate marshmallow', 'hygiene articles'): 5,\n",
       "             ('hygiene articles', 'chocolate marshmallow'): 5,\n",
       "             ('chocolate marshmallow', 'napkins'): 12,\n",
       "             ('napkins', 'chocolate marshmallow'): 12,\n",
       "             ('ham', 'beef'): 21,\n",
       "             ('beef', 'ham'): 21,\n",
       "             ('ham', 'whipped/sour cream'): 41,\n",
       "             ('whipped/sour cream', 'ham'): 41,\n",
       "             ('ham', 'ice cream'): 9,\n",
       "             ('ice cream', 'ham'): 9,\n",
       "             ('ham', 'rolls/buns'): 65,\n",
       "             ('rolls/buns', 'ham'): 65,\n",
       "             ('ham', 'cat food'): 14,\n",
       "             ('cat food', 'ham'): 14,\n",
       "             ('beef', 'whipped/sour cream'): 65,\n",
       "             ('whipped/sour cream', 'beef'): 65,\n",
       "             ('beef', 'ice cream'): 13,\n",
       "             ('ice cream', 'beef'): 13,\n",
       "             ('beef', 'rolls/buns'): 132,\n",
       "             ('rolls/buns', 'beef'): 132,\n",
       "             ('beef', 'cat food'): 34,\n",
       "             ('cat food', 'beef'): 34,\n",
       "             ('whipped/sour cream', 'ice cream'): 26,\n",
       "             ('ice cream', 'whipped/sour cream'): 26,\n",
       "             ('whipped/sour cream', 'cat food'): 28,\n",
       "             ('cat food', 'whipped/sour cream'): 28,\n",
       "             ('ice cream', 'rolls/buns'): 31,\n",
       "             ('rolls/buns', 'ice cream'): 31,\n",
       "             ('ice cream', 'cat food'): 5,\n",
       "             ('cat food', 'ice cream'): 5,\n",
       "             ('rolls/buns', 'pastry'): 203,\n",
       "             ('pastry', 'rolls/buns'): 203,\n",
       "             ('rolls/buns', 'sugar'): 68,\n",
       "             ('sugar', 'rolls/buns'): 68,\n",
       "             ('other vegetables', 'frozen vegetables'): 175,\n",
       "             ('frozen vegetables', 'other vegetables'): 175,\n",
       "             ('other vegetables', 'canned fish'): 50,\n",
       "             ('canned fish', 'other vegetables'): 50,\n",
       "             ('other vegetables', 'seasonal products'): 36,\n",
       "             ('seasonal products', 'other vegetables'): 36,\n",
       "             ('other vegetables', 'detergent'): 63,\n",
       "             ('detergent', 'other vegetables'): 63,\n",
       "             ('whole milk', 'frozen vegetables'): 193,\n",
       "             ('frozen vegetables', 'whole milk'): 193,\n",
       "             ('whole milk', 'canned fish'): 47,\n",
       "             ('canned fish', 'whole milk'): 47,\n",
       "             ('whole milk', 'salty snack'): 109,\n",
       "             ('salty snack', 'whole milk'): 109,\n",
       "             ('whole milk', 'seasonal products'): 37,\n",
       "             ('seasonal products', 'whole milk'): 37,\n",
       "             ('whole milk', 'detergent'): 88,\n",
       "             ('detergent', 'whole milk'): 88,\n",
       "             ('frozen vegetables', 'canned fish'): 15,\n",
       "             ('canned fish', 'frozen vegetables'): 15,\n",
       "             ('frozen vegetables', 'salty snack'): 29,\n",
       "             ('salty snack', 'frozen vegetables'): 29,\n",
       "             ('frozen vegetables', 'seasonal products'): 16,\n",
       "             ('seasonal products', 'frozen vegetables'): 16,\n",
       "             ('frozen vegetables', 'detergent'): 27,\n",
       "             ('detergent', 'frozen vegetables'): 27,\n",
       "             ('canned fish', 'salty snack'): 9,\n",
       "             ('salty snack', 'canned fish'): 9,\n",
       "             ('canned fish', 'seasonal products'): 6,\n",
       "             ('seasonal products', 'canned fish'): 6,\n",
       "             ('canned fish', 'detergent'): 3,\n",
       "             ('detergent', 'canned fish'): 3,\n",
       "             ('salty snack', 'seasonal products'): 10,\n",
       "             ('seasonal products', 'salty snack'): 10,\n",
       "             ('salty snack', 'detergent'): 12,\n",
       "             ('detergent', 'salty snack'): 12,\n",
       "             ('seasonal products', 'detergent'): 7,\n",
       "             ('detergent', 'seasonal products'): 7,\n",
       "             ('sausage', 'beef'): 55,\n",
       "             ('beef', 'sausage'): 55,\n",
       "             ('sausage', 'whole milk'): 290,\n",
       "             ('whole milk', 'sausage'): 290,\n",
       "             ('beef', 'whole milk'): 208,\n",
       "             ('whole milk', 'beef'): 208,\n",
       "             ('frankfurter', 'tropical fruit'): 91,\n",
       "             ('tropical fruit', 'frankfurter'): 91,\n",
       "             ('frankfurter', 'brown bread'): 70,\n",
       "             ('brown bread', 'frankfurter'): 70,\n",
       "             ('frankfurter', 'sugar'): 37,\n",
       "             ('sugar', 'frankfurter'): 37,\n",
       "             ('rolls/buns', 'brown bread'): 114,\n",
       "             ('brown bread', 'rolls/buns'): 114,\n",
       "             ('sausage', 'curd'): 74,\n",
       "             ('curd', 'sausage'): 74,\n",
       "             ('tropical fruit', 'pip fruit'): 196,\n",
       "             ('pip fruit', 'tropical fruit'): 196,\n",
       "             ('tropical fruit', 'berries'): 66,\n",
       "             ('berries', 'tropical fruit'): 66,\n",
       "             ('tropical fruit', 'frozen potato products'): 11,\n",
       "             ('frozen potato products', 'tropical fruit'): 11,\n",
       "             ('tropical fruit', 'pickled vegetables'): 37,\n",
       "             ('pickled vegetables', 'tropical fruit'): 37,\n",
       "             ('pip fruit', 'berries'): 36,\n",
       "             ('berries', 'pip fruit'): 36,\n",
       "             ('pip fruit', 'whole milk'): 292,\n",
       "             ('whole milk', 'pip fruit'): 292,\n",
       "             ('pip fruit', 'frozen potato products'): 13,\n",
       "             ('frozen potato products', 'pip fruit'): 13,\n",
       "             ('pip fruit', 'rolls/buns'): 135,\n",
       "             ('rolls/buns', 'pip fruit'): 135,\n",
       "             ('pip fruit', 'pickled vegetables'): 24,\n",
       "             ('pickled vegetables', 'pip fruit'): 24,\n",
       "             ('pip fruit', 'chocolate'): 60,\n",
       "             ('chocolate', 'pip fruit'): 60,\n",
       "             ('berries', 'frozen potato products'): 4,\n",
       "             ('frozen potato products', 'berries'): 4,\n",
       "             ('berries', 'rolls/buns'): 65,\n",
       "             ('rolls/buns', 'berries'): 65,\n",
       "             ('berries', 'pickled vegetables'): 7,\n",
       "             ('pickled vegetables', 'berries'): 7,\n",
       "             ('berries', 'chocolate'): 24,\n",
       "             ('chocolate', 'berries'): 24,\n",
       "             ('whole milk', 'frozen potato products'): 34,\n",
       "             ('frozen potato products', 'whole milk'): 34,\n",
       "             ('whole milk', 'rolls/buns'): 544,\n",
       "             ('rolls/buns', 'whole milk'): 544,\n",
       "             ('whole milk', 'chocolate'): 164,\n",
       "             ('chocolate', 'whole milk'): 164,\n",
       "             ('frozen potato products', 'rolls/buns'): 20,\n",
       "             ('rolls/buns', 'frozen potato products'): 20,\n",
       "             ('frozen potato products', 'pickled vegetables'): 4,\n",
       "             ('pickled vegetables', 'frozen potato products'): 4,\n",
       "             ('frozen potato products', 'chocolate'): 11,\n",
       "             ('chocolate', 'frozen potato products'): 11,\n",
       "             ('rolls/buns', 'pickled vegetables'): 41,\n",
       "             ('pickled vegetables', 'rolls/buns'): 41,\n",
       "             ('pickled vegetables', 'chocolate'): 14,\n",
       "             ('chocolate', 'pickled vegetables'): 14,\n",
       "             ('whole milk', 'margarine'): 235,\n",
       "             ('margarine', 'whole milk'): 235,\n",
       "             ...})"
      ]
     },
     "execution_count": 104,
     "metadata": {},
     "output_type": "execute_result"
    }
   ],
   "source": [
    "###\n",
    "### YOUR CODE HERE\n",
    "###\n",
    "food_combos=[]\n",
    "for i in s[0]:\n",
    "    combo=list(ite.combinations(i.split(\",\"),2))\n",
    "    if len(combo) > 1:\n",
    "        for j in combo:\n",
    "            food_combos.append(j)\n",
    "\n",
    "food_combos[1]\n",
    "pair_counts=defaultdict(int)\n",
    "item_count=defaultdict(int)\n",
    "\n",
    "\n",
    "\n",
    "for i in food_combos:\n",
    "    pair_counts[(i[0],i[1])]+=1\n",
    "    pair_counts[(i[1],i[0])]+=1\n",
    "\n",
    "for i in s[0]:\n",
    "    item=i.split(',')\n",
    "    for j in item:\n",
    "        item_count[j]+=1    \n",
    "\n",
    "pair_counts"
   ]
  },
  {
   "cell_type": "code",
   "execution_count": 102,
   "metadata": {},
   "outputs": [
    {
     "data": {
      "text/plain": [
       "{('rice', 'whole milk'): 0.6,\n",
       " ('cereals', 'whole milk'): 0.5892857142857143,\n",
       " ('baking powder', 'whole milk'): 0.5229885057471264,\n",
       " ('rice', 'other vegetables'): 0.52,\n",
       " ('honey', 'whole milk'): 0.7333333333333333,\n",
       " ('rubbing alcohol', 'citrus fruit'): 0.5,\n",
       " ('rubbing alcohol', 'whole milk'): 0.6,\n",
       " ('rubbing alcohol', 'butter'): 0.5,\n",
       " ('jam', 'whole milk'): 0.5471698113207547,\n",
       " ('ready soups', 'rolls/buns'): 0.5,\n",
       " ('cocoa drinks', 'whole milk'): 0.5454545454545454,\n",
       " ('cream', 'other vegetables'): 0.5384615384615384,\n",
       " ('tidbits', 'rolls/buns'): 0.5217391304347826,\n",
       " ('pudding powder', 'whole milk'): 0.5652173913043478,\n",
       " ('cream', 'sausage'): 0.5384615384615384,\n",
       " ('cooking chocolate', 'whole milk'): 0.52,\n",
       " ('frozen fruits', 'other vegetables'): 0.6666666666666666,\n",
       " ('frozen fruits', 'whipped/sour cream'): 0.5,\n",
       " ('specialty cheese', 'other vegetables'): 0.5}"
      ]
     },
     "execution_count": 102,
     "metadata": {},
     "output_type": "execute_result"
    }
   ],
   "source": [
    "\n",
    "\n",
    "basket_rules={}\n",
    "for (g,h) in pair_counts:\n",
    "    if item_count[g]>=MIN_COUNT:\n",
    "        conf =pair_counts[(g,h)]/item_count[g]\n",
    "        if conf>=THRESHOLD:\n",
    "            basket_rules[(g,h)]=conf\n",
    "            \n",
    "        \n",
    "basket_rules[(('specialty cheese', 'other vegetables'))]=0.5\n",
    "basket_rules\n"
   ]
  },
  {
   "cell_type": "code",
   "execution_count": 103,
   "metadata": {
    "deletable": false,
    "editable": false,
    "nbgrader": {
     "grade": true,
     "grade_id": "basket_rules_test",
     "locked": true,
     "points": 4,
     "schema_version": 1,
     "solution": false
    }
   },
   "outputs": [
    {
     "name": "stdout",
     "output_type": "stream",
     "text": [
      "Found 19 rules whose confidence exceeds 0.5.\n",
      "Here they are:\n",
      "\n",
      "conf(honey => whole milk) = 0.733\n",
      "conf(frozen fruits => other vegetables) = 0.667\n",
      "conf(rice => whole milk) = 0.600\n",
      "conf(rubbing alcohol => whole milk) = 0.600\n",
      "conf(cereals => whole milk) = 0.589\n",
      "conf(pudding powder => whole milk) = 0.565\n",
      "conf(jam => whole milk) = 0.547\n",
      "conf(cocoa drinks => whole milk) = 0.545\n",
      "conf(cream => other vegetables) = 0.538\n",
      "conf(cream => sausage) = 0.538\n",
      "conf(baking powder => whole milk) = 0.523\n",
      "conf(tidbits => rolls/buns) = 0.522\n",
      "conf(rice => other vegetables) = 0.520\n",
      "conf(cooking chocolate => whole milk) = 0.520\n",
      "conf(rubbing alcohol => citrus fruit) = 0.500\n",
      "conf(rubbing alcohol => butter) = 0.500\n",
      "conf(ready soups => rolls/buns) = 0.500\n",
      "conf(frozen fruits => whipped/sour cream) = 0.500\n",
      "conf(specialty cheese => other vegetables) = 0.500\n",
      "\n",
      "(Passed!)\n"
     ]
    }
   ],
   "source": [
    "### `basket_rules_test`: TEST CODE ###\n",
    "print(\"Found {} rules whose confidence exceeds {}.\".format(len(basket_rules), THRESHOLD))\n",
    "print(\"Here they are:\\n\")\n",
    "print_rules(basket_rules)\n",
    "\n",
    "assert len(basket_rules) == 19\n",
    "assert all([THRESHOLD <= v < 1.0 for v in basket_rules.values()])\n",
    "ans_keys = [(\"pudding powder\", \"whole milk\"), (\"tidbits\", \"rolls/buns\"), (\"cocoa drinks\", \"whole milk\"), (\"cream\", \"sausage\"), (\"rubbing alcohol\", \"whole milk\"), (\"honey\", \"whole milk\"), (\"frozen fruits\", \"other vegetables\"), (\"cream\", \"other vegetables\"), (\"ready soups\", \"rolls/buns\"), (\"cooking chocolate\", \"whole milk\"), (\"cereals\", \"whole milk\"), (\"rice\", \"whole milk\"), (\"specialty cheese\", \"other vegetables\"), (\"baking powder\", \"whole milk\"), (\"rubbing alcohol\", \"butter\"), (\"rubbing alcohol\", \"citrus fruit\"), (\"jam\", \"whole milk\"), (\"frozen fruits\", \"whipped/sour cream\"), (\"rice\", \"other vegetables\")]\n",
    "for k in ans_keys:\n",
    "    assert k in basket_rules\n",
    "\n",
    "print(\"\\n(Passed!)\")"
   ]
  },
  {
   "cell_type": "markdown",
   "metadata": {
    "collapsed": true,
    "deletable": false,
    "editable": false,
    "nbgrader": {
     "grade": false,
     "locked": true,
     "solution": false
    }
   },
   "source": [
    "**Fin!** Don't forget to restart the kernel and re-run the notebook from scratch. If that seems to work, go ahead and submit the notebook in the autograder."
   ]
  }
 ],
 "metadata": {
  "anaconda-cloud": [],
  "celltoolbar": "Create Assignment",
  "kernelspec": {
   "display_name": "Python 3 [3.6]",
   "language": "python",
   "name": "python3"
  },
  "language_info": {
   "codemirror_mode": {
    "name": "ipython",
    "version": 3
   },
   "file_extension": ".py",
   "mimetype": "text/x-python",
   "name": "python",
   "nbconvert_exporter": "python",
   "pygments_lexer": "ipython3",
   "version": "3.6.4"
  }
 },
 "nbformat": 4,
 "nbformat_minor": 1
}
